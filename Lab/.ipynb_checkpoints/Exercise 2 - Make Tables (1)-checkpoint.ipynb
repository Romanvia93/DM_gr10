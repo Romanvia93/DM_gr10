{
 "cells": [
  {
   "cell_type": "code",
   "execution_count": 1,
   "id": "e24b4f17",
   "metadata": {},
   "outputs": [],
   "source": [
    "import pandas as pd\n",
    "import xlrd\n",
    "pd.set_option('max_colwidth', 400)\n",
    "import numpy as np"
   ]
  },
  {
   "cell_type": "code",
   "execution_count": 2,
   "id": "676872eb",
   "metadata": {},
   "outputs": [
    {
     "data": {
      "text/html": [
       "<div>\n",
       "<style scoped>\n",
       "    .dataframe tbody tr th:only-of-type {\n",
       "        vertical-align: middle;\n",
       "    }\n",
       "\n",
       "    .dataframe tbody tr th {\n",
       "        vertical-align: top;\n",
       "    }\n",
       "\n",
       "    .dataframe thead th {\n",
       "        text-align: right;\n",
       "    }\n",
       "</style>\n",
       "<table border=\"1\" class=\"dataframe\">\n",
       "  <thead>\n",
       "    <tr style=\"text-align: right;\">\n",
       "      <th></th>\n",
       "      <th>Order ID</th>\n",
       "      <th>Order Date</th>\n",
       "      <th>Ship Date</th>\n",
       "      <th>Ship Mode</th>\n",
       "      <th>Customer ID</th>\n",
       "      <th>Customer Name</th>\n",
       "      <th>Segment</th>\n",
       "      <th>Country/Region</th>\n",
       "      <th>City</th>\n",
       "      <th>State</th>\n",
       "      <th>Postal Code</th>\n",
       "      <th>Region</th>\n",
       "      <th>Product ID</th>\n",
       "      <th>Category</th>\n",
       "      <th>Sub-Category</th>\n",
       "      <th>Product Name</th>\n",
       "      <th>Sales</th>\n",
       "      <th>Quantity</th>\n",
       "      <th>Discount</th>\n",
       "      <th>Profit</th>\n",
       "    </tr>\n",
       "  </thead>\n",
       "  <tbody>\n",
       "    <tr>\n",
       "      <th>0</th>\n",
       "      <td>CA-2020-152156</td>\n",
       "      <td>2020-11-08</td>\n",
       "      <td>2020-11-11</td>\n",
       "      <td>Second Class</td>\n",
       "      <td>CG-12520</td>\n",
       "      <td>Claire Gute</td>\n",
       "      <td>Consumer</td>\n",
       "      <td>United States</td>\n",
       "      <td>Henderson</td>\n",
       "      <td>Kentucky</td>\n",
       "      <td>42420</td>\n",
       "      <td>South</td>\n",
       "      <td>FUR-BO-10001798</td>\n",
       "      <td>Furniture</td>\n",
       "      <td>Bookcases</td>\n",
       "      <td>Bush Somerset Collection Bookcase</td>\n",
       "      <td>261.96</td>\n",
       "      <td>2</td>\n",
       "      <td>0.0</td>\n",
       "      <td>41.9136</td>\n",
       "    </tr>\n",
       "    <tr>\n",
       "      <th>1</th>\n",
       "      <td>CA-2020-152156</td>\n",
       "      <td>2020-11-08</td>\n",
       "      <td>2020-11-11</td>\n",
       "      <td>Second Class</td>\n",
       "      <td>CG-12520</td>\n",
       "      <td>Claire Gute</td>\n",
       "      <td>Consumer</td>\n",
       "      <td>United States</td>\n",
       "      <td>Henderson</td>\n",
       "      <td>Kentucky</td>\n",
       "      <td>42420</td>\n",
       "      <td>South</td>\n",
       "      <td>FUR-CH-10000454</td>\n",
       "      <td>Furniture</td>\n",
       "      <td>Chairs</td>\n",
       "      <td>Hon Deluxe Fabric Upholstered Stacking Chairs, Rounded Back</td>\n",
       "      <td>731.94</td>\n",
       "      <td>3</td>\n",
       "      <td>0.0</td>\n",
       "      <td>219.5820</td>\n",
       "    </tr>\n",
       "  </tbody>\n",
       "</table>\n",
       "</div>"
      ],
      "text/plain": [
       "         Order ID Order Date  Ship Date     Ship Mode Customer ID  \\\n",
       "0  CA-2020-152156 2020-11-08 2020-11-11  Second Class    CG-12520   \n",
       "1  CA-2020-152156 2020-11-08 2020-11-11  Second Class    CG-12520   \n",
       "\n",
       "  Customer Name   Segment Country/Region       City     State  Postal Code  \\\n",
       "0   Claire Gute  Consumer  United States  Henderson  Kentucky        42420   \n",
       "1   Claire Gute  Consumer  United States  Henderson  Kentucky        42420   \n",
       "\n",
       "  Region       Product ID   Category Sub-Category  \\\n",
       "0  South  FUR-BO-10001798  Furniture    Bookcases   \n",
       "1  South  FUR-CH-10000454  Furniture       Chairs   \n",
       "\n",
       "                                                  Product Name   Sales  \\\n",
       "0                            Bush Somerset Collection Bookcase  261.96   \n",
       "1  Hon Deluxe Fabric Upholstered Stacking Chairs, Rounded Back  731.94   \n",
       "\n",
       "   Quantity  Discount    Profit  \n",
       "0         2       0.0   41.9136  \n",
       "1         3       0.0  219.5820  "
      ]
     },
     "execution_count": 2,
     "metadata": {},
     "output_type": "execute_result"
    }
   ],
   "source": [
    "df = pd.read_excel('Sample - Superstore - cleaned.xlsx')\n",
    "df.head(2)"
   ]
  },
  {
   "cell_type": "code",
   "execution_count": 3,
   "id": "141302fb",
   "metadata": {},
   "outputs": [
    {
     "name": "stdout",
     "output_type": "stream",
     "text": [
      "<class 'pandas.core.frame.DataFrame'>\n",
      "RangeIndex: 9646 entries, 0 to 9645\n",
      "Data columns (total 20 columns):\n",
      " #   Column          Non-Null Count  Dtype         \n",
      "---  ------          --------------  -----         \n",
      " 0   Order ID        9646 non-null   object        \n",
      " 1   Order Date      9646 non-null   datetime64[ns]\n",
      " 2   Ship Date       9646 non-null   datetime64[ns]\n",
      " 3   Ship Mode       9646 non-null   object        \n",
      " 4   Customer ID     9646 non-null   object        \n",
      " 5   Customer Name   9646 non-null   object        \n",
      " 6   Segment         9646 non-null   object        \n",
      " 7   Country/Region  9646 non-null   object        \n",
      " 8   City            9646 non-null   object        \n",
      " 9   State           9646 non-null   object        \n",
      " 10  Postal Code     9646 non-null   int64         \n",
      " 11  Region          9646 non-null   object        \n",
      " 12  Product ID      9646 non-null   object        \n",
      " 13  Category        9646 non-null   object        \n",
      " 14  Sub-Category    9646 non-null   object        \n",
      " 15  Product Name    9646 non-null   object        \n",
      " 16  Sales           9646 non-null   float64       \n",
      " 17  Quantity        9646 non-null   int64         \n",
      " 18  Discount        9646 non-null   float64       \n",
      " 19  Profit          9646 non-null   float64       \n",
      "dtypes: datetime64[ns](2), float64(3), int64(2), object(13)\n",
      "memory usage: 1.5+ MB\n"
     ]
    }
   ],
   "source": [
    "df.info()"
   ]
  },
  {
   "cell_type": "code",
   "execution_count": 4,
   "id": "dfd0d7e7",
   "metadata": {},
   "outputs": [
    {
     "data": {
      "text/plain": [
       "Order Date     True\n",
       "Ship Date      True\n",
       "Ship Mode      True\n",
       "Customer ID    True\n",
       "dtype: bool"
      ]
     },
     "execution_count": 4,
     "metadata": {},
     "output_type": "execute_result"
    }
   ],
   "source": [
    "# Create Table 'Order'\n",
    "\n",
    "atts = ['Order ID', 'Order Date', 'Ship Date', 'Ship Mode', 'Customer ID']\n",
    "order_df_unique = df[atts].groupby('Order ID')[['Order Date', 'Ship Date', 'Ship Mode', 'Customer ID']].nunique()\n",
    "order_df_unique.isin([1]).all()"
   ]
  },
  {
   "cell_type": "code",
   "execution_count": 5,
   "id": "aa5e19d6",
   "metadata": {},
   "outputs": [],
   "source": [
    "order_df = df[atts].drop_duplicates(keep='first').reset_index().drop('index', axis=1) #4920"
   ]
  },
  {
   "cell_type": "code",
   "execution_count": 6,
   "id": "76fe7ab2",
   "metadata": {},
   "outputs": [
    {
     "data": {
      "text/plain": [
       "True"
      ]
     },
     "execution_count": 6,
     "metadata": {},
     "output_type": "execute_result"
    }
   ],
   "source": [
    "# Create Table 'Product'\n",
    "\n",
    "atts = ['Product ID', 'Product Name', 'Sub-Category']\n",
    "product_df_unique = df[atts].groupby('Product ID')['Product Name'].nunique()\n",
    "product_df_unique.isin([1]).all()"
   ]
  },
  {
   "cell_type": "code",
   "execution_count": 7,
   "id": "e68aa88a",
   "metadata": {},
   "outputs": [],
   "source": [
    "product_df = df[atts].drop_duplicates(keep='first').reset_index().drop('index', axis=1) #1829\n",
    "ids = np.arange(1, len(product_df)+1, dtype=int)\n",
    "product_df['Sub-Category ID'] = ids"
   ]
  },
  {
   "cell_type": "code",
   "execution_count": 8,
   "id": "de6cbd7f",
   "metadata": {},
   "outputs": [],
   "source": [
    "# Create Table 'Order-Product'\n",
    "\n",
    "atts = ['Order ID', 'Product ID', 'Sales', 'Quantity', 'Discount', 'Profit']\n",
    "order_product_df = df[atts].drop_duplicates(keep='first').reset_index().drop('index', axis=1)"
   ]
  },
  {
   "cell_type": "code",
   "execution_count": 9,
   "id": "0a434594",
   "metadata": {},
   "outputs": [
    {
     "data": {
      "text/plain": [
       "True"
      ]
     },
     "execution_count": 9,
     "metadata": {},
     "output_type": "execute_result"
    }
   ],
   "source": [
    "# Create Table 'Sub-Category'\n",
    "\n",
    "atts = ['Sub-Category', 'Category']\n",
    "sub_df_unique = df[atts].groupby('Sub-Category')['Category'].nunique()\n",
    "sub_df_unique.isin([1]).all()"
   ]
  },
  {
   "cell_type": "code",
   "execution_count": 10,
   "id": "f82184a8",
   "metadata": {},
   "outputs": [],
   "source": [
    "sub_df = df[atts].drop_duplicates(keep='first').reset_index().drop(['index'], axis=1) #16\n",
    "ids = np.arange(1, len(sub_df)+1, dtype=int)\n",
    "sub_df['Sub-Category ID'] = ids\n",
    "sub_df['Category ID'] = ids"
   ]
  },
  {
   "cell_type": "code",
   "execution_count": 11,
   "id": "b3ba7873",
   "metadata": {},
   "outputs": [],
   "source": [
    "# Create Table 'Category'\n",
    "\n",
    "atts = ['Category']\n",
    "cat_df = df[atts].drop_duplicates(keep='first').reset_index().drop('index', axis=1) #3\n",
    "ids = np.arange(1, len(cat_df)+1, dtype=int)\n",
    "cat_df['Category ID'] = ids"
   ]
  },
  {
   "cell_type": "code",
   "execution_count": 12,
   "id": "b355103a",
   "metadata": {},
   "outputs": [
    {
     "data": {
      "text/plain": [
       "Customer Name    True\n",
       "Segment          True\n",
       "dtype: bool"
      ]
     },
     "execution_count": 12,
     "metadata": {},
     "output_type": "execute_result"
    }
   ],
   "source": [
    "# Create Table 'Customer'\n",
    "\n",
    "atts = ['Customer ID', 'Customer Name', 'Segment']\n",
    "customer_df_unique = df[atts].groupby('Customer ID')[['Customer Name', 'Segment']].nunique()\n",
    "customer_df_unique.isin([1]).all()"
   ]
  },
  {
   "cell_type": "code",
   "execution_count": 13,
   "id": "4ee5e9fb",
   "metadata": {},
   "outputs": [],
   "source": [
    "customer_df = df[atts].drop_duplicates(keep='first').reset_index().drop('index', axis=1)"
   ]
  },
  {
   "cell_type": "code",
   "execution_count": 14,
   "id": "3986e6e4",
   "metadata": {},
   "outputs": [],
   "source": [
    "# Create Table 'Postal'\n",
    "\n",
    "atts = ['Postal Code']\n",
    "postal_df = df[atts].drop_duplicates(keep='first').reset_index().drop('index', axis=1) #3\n",
    "ids = np.arange(1, len(postal_df)+1, dtype=int)\n",
    "postal_df['City ID'] = ids"
   ]
  },
  {
   "cell_type": "code",
   "execution_count": 15,
   "id": "6abb6182",
   "metadata": {},
   "outputs": [],
   "source": [
    "# Create Table 'Customer-Address'\n",
    "\n",
    "atts = ['Customer ID', 'Postal Code']\n",
    "customer_address_df = df[atts].drop_duplicates(keep='first').reset_index().drop('index', axis=1)"
   ]
  },
  {
   "cell_type": "code",
   "execution_count": 16,
   "id": "d1719f41",
   "metadata": {},
   "outputs": [],
   "source": [
    "# Create Table 'City'\n",
    "\n",
    "atts = ['City', 'Postal Code', 'State']\n",
    "city_df = df[atts].drop_duplicates(keep='first').reset_index().drop('index', axis=1)\n",
    "ids = np.arange(1, len(city_df)+1, dtype=int)\n",
    "city_df['City ID'] = ids\n",
    "city_df['State ID'] = ids"
   ]
  },
  {
   "cell_type": "code",
   "execution_count": 17,
   "id": "455b2848",
   "metadata": {},
   "outputs": [
    {
     "data": {
      "text/plain": [
       "True"
      ]
     },
     "execution_count": 17,
     "metadata": {},
     "output_type": "execute_result"
    }
   ],
   "source": [
    "# Create Table 'State'\n",
    "\n",
    "atts = ['Region', 'State', 'Postal Code', 'City']\n",
    "state_df_unique = df[atts].groupby('State')['Region'].nunique()\n",
    "state_df_unique.isin([1]).all()"
   ]
  },
  {
   "cell_type": "code",
   "execution_count": 18,
   "id": "9527a01e",
   "metadata": {},
   "outputs": [],
   "source": [
    "state_df = df[atts].drop_duplicates(keep='first').reset_index().drop('index', axis=1)\n",
    "ids = np.arange(1, len(state_df)+1, dtype=int)\n",
    "state_df['State ID'] = ids\n",
    "state_df['Region ID'] = ids"
   ]
  },
  {
   "cell_type": "code",
   "execution_count": 19,
   "id": "3a725adf",
   "metadata": {},
   "outputs": [
    {
     "data": {
      "text/plain": [
       "True"
      ]
     },
     "execution_count": 19,
     "metadata": {},
     "output_type": "execute_result"
    }
   ],
   "source": [
    "# Create Table 'Region'\n",
    "\n",
    "atts = ['Region', 'Country/Region']\n",
    "region_df_unique = df[atts].groupby('Region')['Country/Region'].nunique()\n",
    "region_df_unique.isin([1]).all()"
   ]
  },
  {
   "cell_type": "code",
   "execution_count": 20,
   "id": "e024fd57",
   "metadata": {},
   "outputs": [],
   "source": [
    "region_df = df[atts].drop_duplicates(keep='first').reset_index().drop('index', axis=1)\n",
    "ids = np.arange(1, len(region_df)+1, dtype=int)\n",
    "region_df['Region ID'] = ids\n",
    "region_df['Country ID'] = ids"
   ]
  },
  {
   "cell_type": "code",
   "execution_count": 21,
   "id": "a115ddce",
   "metadata": {},
   "outputs": [],
   "source": [
    "# Create Table 'Country'\n",
    "\n",
    "atts = ['Country/Region']\n",
    "country_df = df[atts].drop_duplicates(keep='first').reset_index().drop('index', axis=1)\n",
    "ids = np.arange(1, len(country_df)+1, dtype=int)\n",
    "country_df['Country ID'] = ids"
   ]
  },
  {
   "cell_type": "code",
   "execution_count": 22,
   "id": "b03146b9",
   "metadata": {},
   "outputs": [
    {
     "name": "stderr",
     "output_type": "stream",
     "text": [
      "/var/folders/hg/cgh05_ss1dxd3_65skxzpqcm0000gn/T/ipykernel_56175/440699364.py:6: SettingWithCopyWarning: \n",
      "A value is trying to be set on a copy of a slice from a DataFrame\n",
      "\n",
      "See the caveats in the documentation: https://pandas.pydata.org/pandas-docs/stable/user_guide/indexing.html#returning-a-view-versus-a-copy\n",
      "  region_df['Country ID'][i] = country_df['Country ID'][j]\n"
     ]
    }
   ],
   "source": [
    "# Map Country IDs\n",
    "\n",
    "for i in range(len(region_df)):\n",
    "    for j in range(len(country_df)):\n",
    "        if region_df['Country/Region'][i] == country_df['Country/Region'][j]:\n",
    "            region_df['Country ID'][i] = country_df['Country ID'][j]\n",
    "            break\n",
    "region_df.drop('Country/Region', axis=1, inplace=True)"
   ]
  },
  {
   "cell_type": "code",
   "execution_count": 23,
   "id": "f62bef6b",
   "metadata": {},
   "outputs": [
    {
     "name": "stderr",
     "output_type": "stream",
     "text": [
      "/var/folders/hg/cgh05_ss1dxd3_65skxzpqcm0000gn/T/ipykernel_56175/774643930.py:6: SettingWithCopyWarning: \n",
      "A value is trying to be set on a copy of a slice from a DataFrame\n",
      "\n",
      "See the caveats in the documentation: https://pandas.pydata.org/pandas-docs/stable/user_guide/indexing.html#returning-a-view-versus-a-copy\n",
      "  state_df['Region ID'][i] = region_df['Region ID'][j]\n"
     ]
    }
   ],
   "source": [
    "# Map Region IDs\n",
    "\n",
    "for i in range(len(state_df)):\n",
    "    for j in range(len(region_df)):\n",
    "        if state_df['Region'][i] == region_df['Region'][j]:\n",
    "            state_df['Region ID'][i] = region_df['Region ID'][j]\n",
    "            break"
   ]
  },
  {
   "cell_type": "code",
   "execution_count": 24,
   "id": "e4eee7c1",
   "metadata": {},
   "outputs": [
    {
     "name": "stderr",
     "output_type": "stream",
     "text": [
      "/var/folders/hg/cgh05_ss1dxd3_65skxzpqcm0000gn/T/ipykernel_56175/2920222307.py:6: SettingWithCopyWarning: \n",
      "A value is trying to be set on a copy of a slice from a DataFrame\n",
      "\n",
      "See the caveats in the documentation: https://pandas.pydata.org/pandas-docs/stable/user_guide/indexing.html#returning-a-view-versus-a-copy\n",
      "  city_df['State ID'][i] = state_df['State ID'][j]\n"
     ]
    }
   ],
   "source": [
    "# Map State IDs\n",
    "\n",
    "for i in range(len(city_df)):\n",
    "    for j in range(len(state_df)):\n",
    "        if city_df['State'][i] == state_df['State'][j]:\n",
    "            city_df['State ID'][i] = state_df['State ID'][j]\n",
    "            break"
   ]
  },
  {
   "cell_type": "code",
   "execution_count": 25,
   "id": "a16435dc",
   "metadata": {},
   "outputs": [],
   "source": [
    "# Map City IDs\n",
    "\n",
    "postal_df['City ID'] = city_df['City ID']"
   ]
  },
  {
   "cell_type": "code",
   "execution_count": 26,
   "id": "a901dd0e",
   "metadata": {},
   "outputs": [
    {
     "name": "stderr",
     "output_type": "stream",
     "text": [
      "/var/folders/hg/cgh05_ss1dxd3_65skxzpqcm0000gn/T/ipykernel_56175/2141954761.py:6: SettingWithCopyWarning: \n",
      "A value is trying to be set on a copy of a slice from a DataFrame\n",
      "\n",
      "See the caveats in the documentation: https://pandas.pydata.org/pandas-docs/stable/user_guide/indexing.html#returning-a-view-versus-a-copy\n",
      "  sub_df['Category ID'][i] = cat_df['Category ID'][j]\n"
     ]
    }
   ],
   "source": [
    "# Map Category IDs\n",
    "\n",
    "for i in range(len(sub_df)):\n",
    "    for j in range(len(cat_df)):\n",
    "        if sub_df['Category'][i] == cat_df['Category'][j]:\n",
    "            sub_df['Category ID'][i] = cat_df['Category ID'][j]\n",
    "            break"
   ]
  },
  {
   "cell_type": "code",
   "execution_count": 27,
   "id": "7974850f",
   "metadata": {},
   "outputs": [
    {
     "name": "stderr",
     "output_type": "stream",
     "text": [
      "/var/folders/hg/cgh05_ss1dxd3_65skxzpqcm0000gn/T/ipykernel_56175/457254354.py:6: SettingWithCopyWarning: \n",
      "A value is trying to be set on a copy of a slice from a DataFrame\n",
      "\n",
      "See the caveats in the documentation: https://pandas.pydata.org/pandas-docs/stable/user_guide/indexing.html#returning-a-view-versus-a-copy\n",
      "  product_df['Sub-Category ID'][i] = sub_df['Sub-Category ID'][j]\n"
     ]
    }
   ],
   "source": [
    "# Map Sub-Category IDs\n",
    "\n",
    "for i in range(len(product_df)):\n",
    "    for j in range(len(sub_df)):\n",
    "        if product_df['Sub-Category'][i] == sub_df['Sub-Category'][j]:\n",
    "            product_df['Sub-Category ID'][i] = sub_df['Sub-Category ID'][j]\n",
    "            break"
   ]
  },
  {
   "cell_type": "code",
   "execution_count": 28,
   "id": "4b4efd0e",
   "metadata": {},
   "outputs": [],
   "source": [
    "# Export tables\n",
    "\n",
    "order_df.rename(columns={'Order ID': 'Order_ID', 'Order Date': 'Order_Date', 'Ship Date': 'Ship_Date', 'Ship Mode': 'Ship_Mode', 'Customer ID': 'Customer_ID'}, inplace=True)\n",
    "order_df.to_csv('Order.csv', index=False)\n",
    "\n",
    "product_df.drop('Sub-Category', axis=1, inplace=True)\n",
    "product_df.rename(columns={'Product ID': 'Product_ID', 'Product Name': 'Product_Name', 'Sub-Category ID':'Subcategory_ID'}, inplace=True)\n",
    "product_df.to_csv('Product.csv', index=False)\n",
    "\n",
    "order_product_df.rename(columns={'Order ID': 'Order_ID', 'Product ID': 'Product_ID'}, inplace=True)\n",
    "order_product_df.to_csv('Order_Product.csv', index=False)\n",
    "\n",
    "sub_df.drop('Category', axis=1, inplace=True)\n",
    "sub_df.rename(columns={'Sub-Category':'Subcategory', 'Sub-Category ID':'Subcategory_ID', 'Category ID': 'Category_ID'}, inplace=True)\n",
    "sub_df.to_csv('SubCategory.csv', index=False)\n",
    "\n",
    "cat_df.rename(columns={'Category ID': 'Category_ID'}, inplace=True)\n",
    "cat_df.to_csv('Category.csv', index=False)\n",
    "\n",
    "customer_df.rename(columns={'Customer ID': 'Customer_ID', 'Customer Name': 'Customer_Name'}, inplace=True)\n",
    "customer_df.to_csv('Customer.csv', index=False)\n",
    "\n",
    "postal_df.rename(columns={'City ID': 'City_ID', 'Postal Code': 'Postal_Code'}, inplace=True)\n",
    "postal_df.to_csv('Postal.csv', index=False)\n",
    "\n",
    "customer_address_df.rename(columns={'Customer ID': 'Customer_ID', 'Postal Code': 'Postal_Code'}, inplace=True)\n",
    "customer_address_df.to_csv('Customer_Address.csv', index=False)\n",
    "\n",
    "city_df.drop('Postal Code', axis=1, inplace=True)\n",
    "city_df.drop('State', axis=1, inplace=True)\n",
    "city_df.rename(columns={'State ID': 'State_ID', 'City ID': 'City_ID'}, inplace=True)\n",
    "city_df.to_csv('City.csv', index=False)\n",
    "\n",
    "state_df.drop('Region', axis=1, inplace=True)\n",
    "state_df.drop('Postal Code', axis=1, inplace=True)\n",
    "state_df.drop('City', axis=1, inplace=True)\n",
    "state_df.rename(columns={'Region ID': 'Region_ID', 'State ID': 'State_ID'}, inplace=True)\n",
    "state_df.to_csv('State.csv', index=False)\n",
    "\n",
    "region_df.rename(columns={'Region ID': 'Region_ID', 'Country ID': 'Country_ID'}, inplace=True)\n",
    "region_df.to_csv('Region.csv', index=False)\n",
    "\n",
    "country_df.rename(columns={'Country/Region': 'Country', 'Country ID': 'Country_ID'}, inplace=True)\n",
    "country_df.to_csv('Country.csv', index=False)"
   ]
  },
  {
   "cell_type": "code",
   "execution_count": null,
   "id": "9e8d33d3",
   "metadata": {},
   "outputs": [],
   "source": []
  }
 ],
 "metadata": {
  "kernelspec": {
   "display_name": "Python 3 (ipykernel)",
   "language": "python",
   "name": "python3"
  },
  "language_info": {
   "codemirror_mode": {
    "name": "ipython",
    "version": 3
   },
   "file_extension": ".py",
   "mimetype": "text/x-python",
   "name": "python",
   "nbconvert_exporter": "python",
   "pygments_lexer": "ipython3",
   "version": "3.9.15"
  },
  "toc": {
   "base_numbering": 1,
   "nav_menu": {},
   "number_sections": true,
   "sideBar": true,
   "skip_h1_title": false,
   "title_cell": "Table of Contents",
   "title_sidebar": "Contents",
   "toc_cell": false,
   "toc_position": {},
   "toc_section_display": true,
   "toc_window_display": false
  }
 },
 "nbformat": 4,
 "nbformat_minor": 5
}
