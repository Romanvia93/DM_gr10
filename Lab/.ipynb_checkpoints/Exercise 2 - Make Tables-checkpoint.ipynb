{
 "cells": [
  {
   "cell_type": "code",
   "execution_count": 43,
   "id": "e24b4f17",
   "metadata": {
    "ExecuteTime": {
     "end_time": "2023-02-20T01:12:23.563157Z",
     "start_time": "2023-02-20T01:12:23.539987Z"
    }
   },
   "outputs": [],
   "source": [
    "import pandas as pd\n",
    "import xlrd\n",
    "pd.set_option('max_colwidth', 400)\n",
    "import numpy as np"
   ]
  },
  {
   "cell_type": "code",
   "execution_count": 44,
   "id": "676872eb",
   "metadata": {
    "ExecuteTime": {
     "end_time": "2023-02-20T01:12:28.764712Z",
     "start_time": "2023-02-20T01:12:23.576141Z"
    }
   },
   "outputs": [
    {
     "data": {
      "text/html": [
       "<div>\n",
       "<style scoped>\n",
       "    .dataframe tbody tr th:only-of-type {\n",
       "        vertical-align: middle;\n",
       "    }\n",
       "\n",
       "    .dataframe tbody tr th {\n",
       "        vertical-align: top;\n",
       "    }\n",
       "\n",
       "    .dataframe thead th {\n",
       "        text-align: right;\n",
       "    }\n",
       "</style>\n",
       "<table border=\"1\" class=\"dataframe\">\n",
       "  <thead>\n",
       "    <tr style=\"text-align: right;\">\n",
       "      <th></th>\n",
       "      <th>Order ID</th>\n",
       "      <th>Order Date</th>\n",
       "      <th>Ship Date</th>\n",
       "      <th>Ship Mode</th>\n",
       "      <th>Customer ID</th>\n",
       "      <th>Customer Name</th>\n",
       "      <th>Segment</th>\n",
       "      <th>Country/Region</th>\n",
       "      <th>City</th>\n",
       "      <th>State</th>\n",
       "      <th>...</th>\n",
       "      <th>Category</th>\n",
       "      <th>Sub-Category</th>\n",
       "      <th>Product Name</th>\n",
       "      <th>Sales</th>\n",
       "      <th>Quantity</th>\n",
       "      <th>Discount</th>\n",
       "      <th>Profit</th>\n",
       "      <th>sub_category_id</th>\n",
       "      <th>city_id</th>\n",
       "      <th>segment_id</th>\n",
       "    </tr>\n",
       "  </thead>\n",
       "  <tbody>\n",
       "    <tr>\n",
       "      <th>0</th>\n",
       "      <td>CA-2020-152156</td>\n",
       "      <td>2020-11-08</td>\n",
       "      <td>2020-11-11</td>\n",
       "      <td>Second Class</td>\n",
       "      <td>CG-12520</td>\n",
       "      <td>Claire Gute</td>\n",
       "      <td>Consumer</td>\n",
       "      <td>United States</td>\n",
       "      <td>Henderson</td>\n",
       "      <td>Kentucky</td>\n",
       "      <td>...</td>\n",
       "      <td>Furniture</td>\n",
       "      <td>Bookcases</td>\n",
       "      <td>Bush Somerset Collection Bookcase</td>\n",
       "      <td>261.96</td>\n",
       "      <td>2</td>\n",
       "      <td>0.0</td>\n",
       "      <td>41.9136</td>\n",
       "      <td>1</td>\n",
       "      <td>222</td>\n",
       "      <td>1</td>\n",
       "    </tr>\n",
       "    <tr>\n",
       "      <th>1</th>\n",
       "      <td>CA-2020-152156</td>\n",
       "      <td>2020-11-08</td>\n",
       "      <td>2020-11-11</td>\n",
       "      <td>Second Class</td>\n",
       "      <td>CG-12520</td>\n",
       "      <td>Claire Gute</td>\n",
       "      <td>Consumer</td>\n",
       "      <td>United States</td>\n",
       "      <td>Henderson</td>\n",
       "      <td>Kentucky</td>\n",
       "      <td>...</td>\n",
       "      <td>Furniture</td>\n",
       "      <td>Chairs</td>\n",
       "      <td>Hon Deluxe Fabric Upholstered Stacking Chairs, Rounded Back</td>\n",
       "      <td>731.94</td>\n",
       "      <td>3</td>\n",
       "      <td>0.0</td>\n",
       "      <td>219.5820</td>\n",
       "      <td>2</td>\n",
       "      <td>222</td>\n",
       "      <td>1</td>\n",
       "    </tr>\n",
       "  </tbody>\n",
       "</table>\n",
       "<p>2 rows × 23 columns</p>\n",
       "</div>"
      ],
      "text/plain": [
       "         Order ID Order Date  Ship Date     Ship Mode Customer ID  \\\n",
       "0  CA-2020-152156 2020-11-08 2020-11-11  Second Class    CG-12520   \n",
       "1  CA-2020-152156 2020-11-08 2020-11-11  Second Class    CG-12520   \n",
       "\n",
       "  Customer Name   Segment Country/Region       City     State  ...   Category  \\\n",
       "0   Claire Gute  Consumer  United States  Henderson  Kentucky  ...  Furniture   \n",
       "1   Claire Gute  Consumer  United States  Henderson  Kentucky  ...  Furniture   \n",
       "\n",
       "  Sub-Category                                                 Product Name  \\\n",
       "0    Bookcases                            Bush Somerset Collection Bookcase   \n",
       "1       Chairs  Hon Deluxe Fabric Upholstered Stacking Chairs, Rounded Back   \n",
       "\n",
       "    Sales Quantity Discount    Profit  sub_category_id  city_id  segment_id  \n",
       "0  261.96        2      0.0   41.9136                1      222           1  \n",
       "1  731.94        3      0.0  219.5820                2      222           1  \n",
       "\n",
       "[2 rows x 23 columns]"
      ]
     },
     "execution_count": 44,
     "metadata": {},
     "output_type": "execute_result"
    }
   ],
   "source": [
    "df = pd.read_excel('Sample - Superstore - cleaned.xlsx')\n",
    "df.head(2)"
   ]
  },
  {
   "cell_type": "code",
   "execution_count": 45,
   "id": "141302fb",
   "metadata": {
    "ExecuteTime": {
     "end_time": "2023-02-20T01:12:28.843051Z",
     "start_time": "2023-02-20T01:12:28.769660Z"
    }
   },
   "outputs": [
    {
     "name": "stdout",
     "output_type": "stream",
     "text": [
      "<class 'pandas.core.frame.DataFrame'>\n",
      "RangeIndex: 9646 entries, 0 to 9645\n",
      "Data columns (total 23 columns):\n",
      " #   Column           Non-Null Count  Dtype         \n",
      "---  ------           --------------  -----         \n",
      " 0   Order ID         9646 non-null   object        \n",
      " 1   Order Date       9646 non-null   datetime64[ns]\n",
      " 2   Ship Date        9646 non-null   datetime64[ns]\n",
      " 3   Ship Mode        9646 non-null   object        \n",
      " 4   Customer ID      9646 non-null   object        \n",
      " 5   Customer Name    9646 non-null   object        \n",
      " 6   Segment          9646 non-null   object        \n",
      " 7   Country/Region   9646 non-null   object        \n",
      " 8   City             9646 non-null   object        \n",
      " 9   State            9646 non-null   object        \n",
      " 10  Postal Code      9646 non-null   int64         \n",
      " 11  Region           9646 non-null   object        \n",
      " 12  Product ID       9646 non-null   object        \n",
      " 13  Category         9646 non-null   object        \n",
      " 14  Sub-Category     9646 non-null   object        \n",
      " 15  Product Name     9646 non-null   object        \n",
      " 16  Sales            9646 non-null   float64       \n",
      " 17  Quantity         9646 non-null   int64         \n",
      " 18  Discount         9646 non-null   float64       \n",
      " 19  Profit           9646 non-null   float64       \n",
      " 20  sub_category_id  9646 non-null   int64         \n",
      " 21  city_id          9646 non-null   int64         \n",
      " 22  segment_id       9646 non-null   int64         \n",
      "dtypes: datetime64[ns](2), float64(3), int64(5), object(13)\n",
      "memory usage: 1.7+ MB\n"
     ]
    }
   ],
   "source": [
    "df.info()"
   ]
  },
  {
   "cell_type": "markdown",
   "id": "0258fbf9",
   "metadata": {},
   "source": [
    "### Country"
   ]
  },
  {
   "cell_type": "code",
   "execution_count": 46,
   "id": "d3c92479",
   "metadata": {
    "ExecuteTime": {
     "end_time": "2023-02-20T01:12:28.889153Z",
     "start_time": "2023-02-20T01:12:28.851008Z"
    }
   },
   "outputs": [
    {
     "data": {
      "text/html": [
       "<div>\n",
       "<style scoped>\n",
       "    .dataframe tbody tr th:only-of-type {\n",
       "        vertical-align: middle;\n",
       "    }\n",
       "\n",
       "    .dataframe tbody tr th {\n",
       "        vertical-align: top;\n",
       "    }\n",
       "\n",
       "    .dataframe thead th {\n",
       "        text-align: right;\n",
       "    }\n",
       "</style>\n",
       "<table border=\"1\" class=\"dataframe\">\n",
       "  <thead>\n",
       "    <tr style=\"text-align: right;\">\n",
       "      <th></th>\n",
       "      <th>Country/Region</th>\n",
       "      <th>Country_ID</th>\n",
       "    </tr>\n",
       "  </thead>\n",
       "  <tbody>\n",
       "    <tr>\n",
       "      <th>0</th>\n",
       "      <td>United States</td>\n",
       "      <td>1</td>\n",
       "    </tr>\n",
       "  </tbody>\n",
       "</table>\n",
       "</div>"
      ],
      "text/plain": [
       "  Country/Region  Country_ID\n",
       "0  United States           1"
      ]
     },
     "execution_count": 46,
     "metadata": {},
     "output_type": "execute_result"
    }
   ],
   "source": [
    "# Create Table 'Country'\n",
    "\n",
    "atts = ['Country/Region']\n",
    "country_df = df[atts].drop_duplicates(keep='first').reset_index().drop('index', axis=1)\n",
    "ids = np.arange(1, len(country_df)+1, dtype=int)\n",
    "country_df['Country_ID'] = ids\n",
    "country_df.head()"
   ]
  },
  {
   "cell_type": "code",
   "execution_count": 47,
   "id": "ef6128b3",
   "metadata": {
    "ExecuteTime": {
     "end_time": "2023-02-20T01:12:28.920145Z",
     "start_time": "2023-02-20T01:12:28.894101Z"
    }
   },
   "outputs": [],
   "source": [
    "country_df.rename(columns={'Country/Region': 'Country'}, inplace=True)\n",
    "df.rename(columns={'Country/Region': 'Country'}, inplace=True)\n",
    "\n",
    "country_df.to_csv('data/v20/Country.csv', index=False)"
   ]
  },
  {
   "cell_type": "markdown",
   "id": "aa9856fb",
   "metadata": {},
   "source": [
    "### Region"
   ]
  },
  {
   "cell_type": "code",
   "execution_count": 48,
   "id": "06fcc622",
   "metadata": {
    "ExecuteTime": {
     "end_time": "2023-02-20T01:12:28.966527Z",
     "start_time": "2023-02-20T01:12:28.924859Z"
    }
   },
   "outputs": [],
   "source": [
    "df = pd.merge(df, country_df, how = 'inner', on = 'Country')\n",
    "assert df.shape[0]==9646"
   ]
  },
  {
   "cell_type": "code",
   "execution_count": 49,
   "id": "fdf7a9f2",
   "metadata": {
    "ExecuteTime": {
     "end_time": "2023-02-20T01:12:29.012865Z",
     "start_time": "2023-02-20T01:12:28.973079Z"
    }
   },
   "outputs": [
    {
     "data": {
      "text/html": [
       "<div>\n",
       "<style scoped>\n",
       "    .dataframe tbody tr th:only-of-type {\n",
       "        vertical-align: middle;\n",
       "    }\n",
       "\n",
       "    .dataframe tbody tr th {\n",
       "        vertical-align: top;\n",
       "    }\n",
       "\n",
       "    .dataframe thead th {\n",
       "        text-align: right;\n",
       "    }\n",
       "</style>\n",
       "<table border=\"1\" class=\"dataframe\">\n",
       "  <thead>\n",
       "    <tr style=\"text-align: right;\">\n",
       "      <th></th>\n",
       "      <th>Region</th>\n",
       "      <th>Country_ID</th>\n",
       "      <th>Region_ID</th>\n",
       "    </tr>\n",
       "  </thead>\n",
       "  <tbody>\n",
       "    <tr>\n",
       "      <th>0</th>\n",
       "      <td>South</td>\n",
       "      <td>1</td>\n",
       "      <td>1</td>\n",
       "    </tr>\n",
       "    <tr>\n",
       "      <th>1</th>\n",
       "      <td>West</td>\n",
       "      <td>1</td>\n",
       "      <td>2</td>\n",
       "    </tr>\n",
       "    <tr>\n",
       "      <th>2</th>\n",
       "      <td>Central</td>\n",
       "      <td>1</td>\n",
       "      <td>3</td>\n",
       "    </tr>\n",
       "    <tr>\n",
       "      <th>3</th>\n",
       "      <td>East</td>\n",
       "      <td>1</td>\n",
       "      <td>4</td>\n",
       "    </tr>\n",
       "  </tbody>\n",
       "</table>\n",
       "</div>"
      ],
      "text/plain": [
       "    Region  Country_ID  Region_ID\n",
       "0    South           1          1\n",
       "1     West           1          2\n",
       "2  Central           1          3\n",
       "3     East           1          4"
      ]
     },
     "execution_count": 49,
     "metadata": {},
     "output_type": "execute_result"
    }
   ],
   "source": [
    "# Create Table 'Country'\n",
    "atts = ['Region', 'Country_ID']\n",
    "data = df[atts].drop_duplicates(keep='first').reset_index().drop('index', axis=1)\n",
    "ids = np.arange(1, len(data)+1, dtype=int)\n",
    "data['Region_ID'] = ids\n",
    "data.head()"
   ]
  },
  {
   "cell_type": "code",
   "execution_count": 50,
   "id": "207f1363",
   "metadata": {
    "ExecuteTime": {
     "end_time": "2023-02-20T01:12:29.044049Z",
     "start_time": "2023-02-20T01:12:29.018872Z"
    }
   },
   "outputs": [],
   "source": [
    "data.rename(columns={'Region': 'Region_name'}, inplace=True)\n",
    "df.rename(columns={'Region': 'Region_name'}, inplace=True)\n",
    "\n",
    "data.to_csv('data/v20/Region.csv', index=False)"
   ]
  },
  {
   "cell_type": "code",
   "execution_count": 51,
   "id": "f0bd4ab9",
   "metadata": {
    "ExecuteTime": {
     "end_time": "2023-02-20T01:12:29.089953Z",
     "start_time": "2023-02-20T01:12:29.049050Z"
    }
   },
   "outputs": [],
   "source": [
    "merge_col = 'Region_name'\n",
    "\n",
    "df = pd.merge(df, data[[merge_col, 'Region_ID']], how = 'inner', on = merge_col)\n",
    "assert df.shape[0]==9646"
   ]
  },
  {
   "cell_type": "markdown",
   "id": "4d01ae7c",
   "metadata": {},
   "source": [
    "### State"
   ]
  },
  {
   "cell_type": "code",
   "execution_count": 52,
   "id": "0e2af15b",
   "metadata": {
    "ExecuteTime": {
     "end_time": "2023-02-20T01:12:29.137850Z",
     "start_time": "2023-02-20T01:12:29.101851Z"
    }
   },
   "outputs": [
    {
     "data": {
      "text/html": [
       "<div>\n",
       "<style scoped>\n",
       "    .dataframe tbody tr th:only-of-type {\n",
       "        vertical-align: middle;\n",
       "    }\n",
       "\n",
       "    .dataframe tbody tr th {\n",
       "        vertical-align: top;\n",
       "    }\n",
       "\n",
       "    .dataframe thead th {\n",
       "        text-align: right;\n",
       "    }\n",
       "</style>\n",
       "<table border=\"1\" class=\"dataframe\">\n",
       "  <thead>\n",
       "    <tr style=\"text-align: right;\">\n",
       "      <th></th>\n",
       "      <th>State</th>\n",
       "      <th>Region_ID</th>\n",
       "      <th>State_ID</th>\n",
       "    </tr>\n",
       "  </thead>\n",
       "  <tbody>\n",
       "    <tr>\n",
       "      <th>0</th>\n",
       "      <td>Kentucky</td>\n",
       "      <td>1</td>\n",
       "      <td>1</td>\n",
       "    </tr>\n",
       "    <tr>\n",
       "      <th>1</th>\n",
       "      <td>Florida</td>\n",
       "      <td>1</td>\n",
       "      <td>2</td>\n",
       "    </tr>\n",
       "    <tr>\n",
       "      <th>2</th>\n",
       "      <td>North Carolina</td>\n",
       "      <td>1</td>\n",
       "      <td>3</td>\n",
       "    </tr>\n",
       "    <tr>\n",
       "      <th>3</th>\n",
       "      <td>Virginia</td>\n",
       "      <td>1</td>\n",
       "      <td>4</td>\n",
       "    </tr>\n",
       "    <tr>\n",
       "      <th>4</th>\n",
       "      <td>Tennessee</td>\n",
       "      <td>1</td>\n",
       "      <td>5</td>\n",
       "    </tr>\n",
       "  </tbody>\n",
       "</table>\n",
       "</div>"
      ],
      "text/plain": [
       "            State  Region_ID  State_ID\n",
       "0        Kentucky          1         1\n",
       "1         Florida          1         2\n",
       "2  North Carolina          1         3\n",
       "3        Virginia          1         4\n",
       "4       Tennessee          1         5"
      ]
     },
     "execution_count": 52,
     "metadata": {},
     "output_type": "execute_result"
    }
   ],
   "source": [
    "# Create Table 'State'\n",
    "atts = ['State', 'Region_ID']\n",
    "data = df[atts].drop_duplicates(keep='first').reset_index().drop('index', axis=1)\n",
    "ids = np.arange(1, len(data)+1, dtype=int)\n",
    "data['State_ID'] = ids\n",
    "data.head()"
   ]
  },
  {
   "cell_type": "code",
   "execution_count": 53,
   "id": "7511d97b",
   "metadata": {
    "ExecuteTime": {
     "end_time": "2023-02-20T01:12:29.168538Z",
     "start_time": "2023-02-20T01:12:29.143856Z"
    }
   },
   "outputs": [],
   "source": [
    "# Rename\n",
    "# data.rename(columns={'Region': 'Region_name'}, inplace=True)\n",
    "# df.rename(columns={'Region': 'Region_name'}, inplace=True)\n",
    "\n",
    "data.to_csv('data/v20/State.csv', index=False)"
   ]
  },
  {
   "cell_type": "code",
   "execution_count": 54,
   "id": "e0fe8f5c",
   "metadata": {
    "ExecuteTime": {
     "end_time": "2023-02-20T01:12:29.215164Z",
     "start_time": "2023-02-20T01:12:29.173848Z"
    }
   },
   "outputs": [],
   "source": [
    "merge_col = 'State'\n",
    "\n",
    "df = pd.merge(df, data[[merge_col, 'State_ID']], how = 'inner', on = merge_col)\n",
    "assert df.shape[0]==9646"
   ]
  },
  {
   "cell_type": "markdown",
   "id": "f90da430",
   "metadata": {},
   "source": [
    "### City"
   ]
  },
  {
   "cell_type": "code",
   "execution_count": 55,
   "id": "44a39442",
   "metadata": {
    "ExecuteTime": {
     "end_time": "2023-02-20T01:12:29.276726Z",
     "start_time": "2023-02-20T01:12:29.222174Z"
    }
   },
   "outputs": [
    {
     "data": {
      "text/html": [
       "<div>\n",
       "<style scoped>\n",
       "    .dataframe tbody tr th:only-of-type {\n",
       "        vertical-align: middle;\n",
       "    }\n",
       "\n",
       "    .dataframe tbody tr th {\n",
       "        vertical-align: top;\n",
       "    }\n",
       "\n",
       "    .dataframe thead th {\n",
       "        text-align: right;\n",
       "    }\n",
       "</style>\n",
       "<table border=\"1\" class=\"dataframe\">\n",
       "  <thead>\n",
       "    <tr style=\"text-align: right;\">\n",
       "      <th></th>\n",
       "      <th>City</th>\n",
       "      <th>State_ID</th>\n",
       "      <th>City_ID</th>\n",
       "    </tr>\n",
       "  </thead>\n",
       "  <tbody>\n",
       "    <tr>\n",
       "      <th>0</th>\n",
       "      <td>Henderson</td>\n",
       "      <td>1</td>\n",
       "      <td>1</td>\n",
       "    </tr>\n",
       "    <tr>\n",
       "      <th>1</th>\n",
       "      <td>Richmond</td>\n",
       "      <td>1</td>\n",
       "      <td>2</td>\n",
       "    </tr>\n",
       "    <tr>\n",
       "      <th>2</th>\n",
       "      <td>Louisville</td>\n",
       "      <td>1</td>\n",
       "      <td>3</td>\n",
       "    </tr>\n",
       "    <tr>\n",
       "      <th>3</th>\n",
       "      <td>Florence</td>\n",
       "      <td>1</td>\n",
       "      <td>4</td>\n",
       "    </tr>\n",
       "    <tr>\n",
       "      <th>4</th>\n",
       "      <td>Murray</td>\n",
       "      <td>1</td>\n",
       "      <td>5</td>\n",
       "    </tr>\n",
       "  </tbody>\n",
       "</table>\n",
       "</div>"
      ],
      "text/plain": [
       "         City  State_ID  City_ID\n",
       "0   Henderson         1        1\n",
       "1    Richmond         1        2\n",
       "2  Louisville         1        3\n",
       "3    Florence         1        4\n",
       "4      Murray         1        5"
      ]
     },
     "execution_count": 55,
     "metadata": {},
     "output_type": "execute_result"
    }
   ],
   "source": [
    "# Create Table 'City'\n",
    "name = 'City'\n",
    "\n",
    "atts = ['City', 'State_ID']\n",
    "data = df[atts].drop_duplicates(keep='first').reset_index().drop('index', axis=1)\n",
    "ids = np.arange(1, len(data)+1, dtype=int)\n",
    "data['City_ID'] = ids\n",
    "data.head()"
   ]
  },
  {
   "cell_type": "code",
   "execution_count": 56,
   "id": "1cd86096",
   "metadata": {
    "ExecuteTime": {
     "end_time": "2023-02-20T01:12:29.308638Z",
     "start_time": "2023-02-20T01:12:29.282727Z"
    }
   },
   "outputs": [],
   "source": [
    "# Rename\n",
    "# data.rename(columns={'Region': 'Region_name'}, inplace=True)\n",
    "# df.rename(columns={'Region': 'Region_name'}, inplace=True)\n",
    "\n",
    "data.to_csv(f'data/v20/{name}.csv', index=False)"
   ]
  },
  {
   "cell_type": "code",
   "execution_count": 57,
   "id": "017e025a",
   "metadata": {
    "ExecuteTime": {
     "end_time": "2023-02-20T01:12:29.354310Z",
     "start_time": "2023-02-20T01:12:29.312634Z"
    }
   },
   "outputs": [],
   "source": [
    "merge_col = ['City','State_ID']\n",
    "\n",
    "df = pd.merge(df, data[['City','State_ID', 'City_ID']], how = 'inner', on = ['City','State_ID'])\n",
    "assert df.shape[0]==9646"
   ]
  },
  {
   "cell_type": "markdown",
   "id": "55870cd8",
   "metadata": {},
   "source": [
    "### Postal"
   ]
  },
  {
   "cell_type": "code",
   "execution_count": 58,
   "id": "69d8833e",
   "metadata": {
    "ExecuteTime": {
     "end_time": "2023-02-20T01:12:29.401669Z",
     "start_time": "2023-02-20T01:12:29.360523Z"
    }
   },
   "outputs": [
    {
     "data": {
      "text/html": [
       "<div>\n",
       "<style scoped>\n",
       "    .dataframe tbody tr th:only-of-type {\n",
       "        vertical-align: middle;\n",
       "    }\n",
       "\n",
       "    .dataframe tbody tr th {\n",
       "        vertical-align: top;\n",
       "    }\n",
       "\n",
       "    .dataframe thead th {\n",
       "        text-align: right;\n",
       "    }\n",
       "</style>\n",
       "<table border=\"1\" class=\"dataframe\">\n",
       "  <thead>\n",
       "    <tr style=\"text-align: right;\">\n",
       "      <th></th>\n",
       "      <th>Postal Code</th>\n",
       "      <th>City_ID</th>\n",
       "      <th>Postal_Code_ID</th>\n",
       "    </tr>\n",
       "  </thead>\n",
       "  <tbody>\n",
       "    <tr>\n",
       "      <th>0</th>\n",
       "      <td>42420</td>\n",
       "      <td>1</td>\n",
       "      <td>1</td>\n",
       "    </tr>\n",
       "    <tr>\n",
       "      <th>1</th>\n",
       "      <td>40475</td>\n",
       "      <td>2</td>\n",
       "      <td>2</td>\n",
       "    </tr>\n",
       "    <tr>\n",
       "      <th>2</th>\n",
       "      <td>40214</td>\n",
       "      <td>3</td>\n",
       "      <td>3</td>\n",
       "    </tr>\n",
       "    <tr>\n",
       "      <th>3</th>\n",
       "      <td>41042</td>\n",
       "      <td>4</td>\n",
       "      <td>4</td>\n",
       "    </tr>\n",
       "    <tr>\n",
       "      <th>4</th>\n",
       "      <td>42071</td>\n",
       "      <td>5</td>\n",
       "      <td>5</td>\n",
       "    </tr>\n",
       "  </tbody>\n",
       "</table>\n",
       "</div>"
      ],
      "text/plain": [
       "   Postal Code  City_ID  Postal_Code_ID\n",
       "0        42420        1               1\n",
       "1        40475        2               2\n",
       "2        40214        3               3\n",
       "3        41042        4               4\n",
       "4        42071        5               5"
      ]
     },
     "execution_count": 58,
     "metadata": {},
     "output_type": "execute_result"
    }
   ],
   "source": [
    "# Create Table 'City'\n",
    "name = 'Postal'\n",
    "\n",
    "atts = ['Postal Code','City_ID']\n",
    "data = df[atts].drop_duplicates(keep='first').reset_index().drop('index', axis=1)\n",
    "ids = np.arange(1, len(data)+1, dtype=int)\n",
    "data['Postal_Code_ID'] = ids\n",
    "data.head()"
   ]
  },
  {
   "cell_type": "code",
   "execution_count": 59,
   "id": "7836160b",
   "metadata": {
    "ExecuteTime": {
     "end_time": "2023-02-20T01:12:29.433702Z",
     "start_time": "2023-02-20T01:12:29.408660Z"
    }
   },
   "outputs": [],
   "source": [
    "rename = {'Postal Code': 'Postal_Code'}\n",
    "\n",
    "# Rename\n",
    "data.rename(columns=rename, inplace=True)\n",
    "df.rename(columns=rename, inplace=True)\n",
    "\n",
    "data.to_csv(f'data/v20/{name}.csv', index=False)"
   ]
  },
  {
   "cell_type": "code",
   "execution_count": 60,
   "id": "773398ac",
   "metadata": {
    "ExecuteTime": {
     "end_time": "2023-02-20T01:12:29.479794Z",
     "start_time": "2023-02-20T01:12:29.439719Z"
    }
   },
   "outputs": [],
   "source": [
    "# merge_col = ['Postal Code','City_ID']\n",
    "\n",
    "df = pd.merge(df, data, how = 'inner', on = ['Postal_Code', 'City_ID'])\n",
    "assert df.shape[0]==9646"
   ]
  },
  {
   "cell_type": "markdown",
   "id": "6a3c4f3b",
   "metadata": {},
   "source": [
    "### Customer"
   ]
  },
  {
   "cell_type": "code",
   "execution_count": 61,
   "id": "d0d4bc7a",
   "metadata": {
    "ExecuteTime": {
     "end_time": "2023-02-20T01:12:29.541710Z",
     "start_time": "2023-02-20T01:12:29.485737Z"
    }
   },
   "outputs": [
    {
     "data": {
      "text/html": [
       "<div>\n",
       "<style scoped>\n",
       "    .dataframe tbody tr th:only-of-type {\n",
       "        vertical-align: middle;\n",
       "    }\n",
       "\n",
       "    .dataframe tbody tr th {\n",
       "        vertical-align: top;\n",
       "    }\n",
       "\n",
       "    .dataframe thead th {\n",
       "        text-align: right;\n",
       "    }\n",
       "</style>\n",
       "<table border=\"1\" class=\"dataframe\">\n",
       "  <thead>\n",
       "    <tr style=\"text-align: right;\">\n",
       "      <th></th>\n",
       "      <th>Customer ID</th>\n",
       "      <th>Customer Name</th>\n",
       "      <th>Segment</th>\n",
       "    </tr>\n",
       "  </thead>\n",
       "  <tbody>\n",
       "    <tr>\n",
       "      <th>0</th>\n",
       "      <td>CG-12520</td>\n",
       "      <td>Claire Gute</td>\n",
       "      <td>Consumer</td>\n",
       "    </tr>\n",
       "    <tr>\n",
       "      <th>1</th>\n",
       "      <td>DK-12985</td>\n",
       "      <td>Darren Koutras</td>\n",
       "      <td>Consumer</td>\n",
       "    </tr>\n",
       "    <tr>\n",
       "      <th>2</th>\n",
       "      <td>RD-19585</td>\n",
       "      <td>Rob Dowd</td>\n",
       "      <td>Consumer</td>\n",
       "    </tr>\n",
       "    <tr>\n",
       "      <th>3</th>\n",
       "      <td>KC-16255</td>\n",
       "      <td>Karen Carlisle</td>\n",
       "      <td>Corporate</td>\n",
       "    </tr>\n",
       "    <tr>\n",
       "      <th>4</th>\n",
       "      <td>AB-10105</td>\n",
       "      <td>Adrian Barton</td>\n",
       "      <td>Consumer</td>\n",
       "    </tr>\n",
       "  </tbody>\n",
       "</table>\n",
       "</div>"
      ],
      "text/plain": [
       "  Customer ID   Customer Name    Segment\n",
       "0    CG-12520     Claire Gute   Consumer\n",
       "1    DK-12985  Darren Koutras   Consumer\n",
       "2    RD-19585        Rob Dowd   Consumer\n",
       "3    KC-16255  Karen Carlisle  Corporate\n",
       "4    AB-10105   Adrian Barton   Consumer"
      ]
     },
     "execution_count": 61,
     "metadata": {},
     "output_type": "execute_result"
    }
   ],
   "source": [
    "# Create Table 'Customer'\n",
    "name = 'Customer'\n",
    "\n",
    "atts = ['Customer ID','Customer Name', 'Segment']\n",
    "data = df[atts].drop_duplicates(keep='first').reset_index().drop('index', axis=1)\n",
    "ids = np.arange(1, len(data)+1, dtype=int)\n",
    "data.head()"
   ]
  },
  {
   "cell_type": "code",
   "execution_count": 62,
   "id": "9ddf5d31",
   "metadata": {
    "ExecuteTime": {
     "end_time": "2023-02-20T01:12:29.572834Z",
     "start_time": "2023-02-20T01:12:29.546780Z"
    }
   },
   "outputs": [],
   "source": [
    "rename = {'Customer ID': 'Customer_ID',\n",
    "          'Customer Name': 'Customer_Name',\n",
    "         }\n",
    "\n",
    "# Rename\n",
    "data.rename(columns=rename, inplace=True)\n",
    "df.rename(columns=rename, inplace=True)\n",
    "\n",
    "data.to_csv(f'data/v20/{name}.csv', index=False)"
   ]
  },
  {
   "cell_type": "code",
   "execution_count": 63,
   "id": "679b343a",
   "metadata": {
    "ExecuteTime": {
     "end_time": "2023-02-20T01:12:29.587830Z",
     "start_time": "2023-02-20T01:12:29.578783Z"
    }
   },
   "outputs": [],
   "source": [
    "# merge_col = ['Postal Code','City_ID']\n",
    "\n",
    "# df = pd.merge(df, data[['City','State_ID', 'City_ID']], how = 'inner', on = ['City','State_ID'])\n",
    "assert df.shape[0]==9646"
   ]
  },
  {
   "cell_type": "markdown",
   "id": "6ba5a3f5",
   "metadata": {},
   "source": [
    "### Customer_address"
   ]
  },
  {
   "cell_type": "code",
   "execution_count": 64,
   "id": "ea367a0a",
   "metadata": {
    "ExecuteTime": {
     "end_time": "2023-02-20T01:12:29.634760Z",
     "start_time": "2023-02-20T01:12:29.593791Z"
    }
   },
   "outputs": [
    {
     "data": {
      "text/html": [
       "<div>\n",
       "<style scoped>\n",
       "    .dataframe tbody tr th:only-of-type {\n",
       "        vertical-align: middle;\n",
       "    }\n",
       "\n",
       "    .dataframe tbody tr th {\n",
       "        vertical-align: top;\n",
       "    }\n",
       "\n",
       "    .dataframe thead th {\n",
       "        text-align: right;\n",
       "    }\n",
       "</style>\n",
       "<table border=\"1\" class=\"dataframe\">\n",
       "  <thead>\n",
       "    <tr style=\"text-align: right;\">\n",
       "      <th></th>\n",
       "      <th>Customer_ID</th>\n",
       "      <th>Postal_Code_ID</th>\n",
       "      <th>Customer_address_ID</th>\n",
       "    </tr>\n",
       "  </thead>\n",
       "  <tbody>\n",
       "    <tr>\n",
       "      <th>0</th>\n",
       "      <td>CG-12520</td>\n",
       "      <td>1</td>\n",
       "      <td>1</td>\n",
       "    </tr>\n",
       "    <tr>\n",
       "      <th>1</th>\n",
       "      <td>DK-12985</td>\n",
       "      <td>1</td>\n",
       "      <td>2</td>\n",
       "    </tr>\n",
       "    <tr>\n",
       "      <th>2</th>\n",
       "      <td>RD-19585</td>\n",
       "      <td>1</td>\n",
       "      <td>3</td>\n",
       "    </tr>\n",
       "    <tr>\n",
       "      <th>3</th>\n",
       "      <td>KC-16255</td>\n",
       "      <td>1</td>\n",
       "      <td>4</td>\n",
       "    </tr>\n",
       "    <tr>\n",
       "      <th>4</th>\n",
       "      <td>AB-10105</td>\n",
       "      <td>1</td>\n",
       "      <td>5</td>\n",
       "    </tr>\n",
       "  </tbody>\n",
       "</table>\n",
       "</div>"
      ],
      "text/plain": [
       "  Customer_ID  Postal_Code_ID  Customer_address_ID\n",
       "0    CG-12520               1                    1\n",
       "1    DK-12985               1                    2\n",
       "2    RD-19585               1                    3\n",
       "3    KC-16255               1                    4\n",
       "4    AB-10105               1                    5"
      ]
     },
     "execution_count": 64,
     "metadata": {},
     "output_type": "execute_result"
    }
   ],
   "source": [
    "# Create Table 'Customer'\n",
    "name = 'Customer_address'\n",
    "\n",
    "atts = ['Customer_ID','Postal_Code_ID']\n",
    "data = df[atts].drop_duplicates(keep='first').reset_index().drop('index', axis=1)\n",
    "ids = np.arange(1, len(data)+1, dtype=int)\n",
    "data['Customer_address_ID'] = ids\n",
    "data.head()"
   ]
  },
  {
   "cell_type": "code",
   "execution_count": 65,
   "id": "882d7bb5",
   "metadata": {
    "ExecuteTime": {
     "end_time": "2023-02-20T01:12:29.681595Z",
     "start_time": "2023-02-20T01:12:29.640801Z"
    }
   },
   "outputs": [],
   "source": [
    "# rename = {'Customer ID': 'Customer_ID',\n",
    "#           'Customer Name': 'Customer_Name',\n",
    "#          }\n",
    "\n",
    "# # Rename\n",
    "# data.rename(columns=rename, inplace=True)\n",
    "# df.rename(columns=rename, inplace=True)\n",
    "\n",
    "data.to_csv(f'data/v20/{name}.csv', index=False)"
   ]
  },
  {
   "cell_type": "code",
   "execution_count": 66,
   "id": "55a9249a",
   "metadata": {
    "ExecuteTime": {
     "end_time": "2023-02-20T01:12:29.742964Z",
     "start_time": "2023-02-20T01:12:29.687447Z"
    }
   },
   "outputs": [],
   "source": [
    "merge_col = ['Customer_ID', 'Postal_Code']\n",
    "\n",
    "df = pd.merge(df, data[['Customer_ID', 'Postal_Code_ID', 'Customer_address_ID']], how = 'inner', on = ['Customer_ID', 'Postal_Code_ID'])\n",
    "assert df.shape[0]==9646"
   ]
  },
  {
   "cell_type": "markdown",
   "id": "07d5b67d",
   "metadata": {},
   "source": [
    "### Order"
   ]
  },
  {
   "cell_type": "code",
   "execution_count": 67,
   "id": "42d7212d",
   "metadata": {
    "ExecuteTime": {
     "end_time": "2023-02-20T01:12:31.145839Z",
     "start_time": "2023-02-20T01:12:31.101063Z"
    }
   },
   "outputs": [
    {
     "data": {
      "text/html": [
       "<div>\n",
       "<style scoped>\n",
       "    .dataframe tbody tr th:only-of-type {\n",
       "        vertical-align: middle;\n",
       "    }\n",
       "\n",
       "    .dataframe tbody tr th {\n",
       "        vertical-align: top;\n",
       "    }\n",
       "\n",
       "    .dataframe thead th {\n",
       "        text-align: right;\n",
       "    }\n",
       "</style>\n",
       "<table border=\"1\" class=\"dataframe\">\n",
       "  <thead>\n",
       "    <tr style=\"text-align: right;\">\n",
       "      <th></th>\n",
       "      <th>Order ID</th>\n",
       "      <th>Order Date</th>\n",
       "      <th>Ship Date</th>\n",
       "      <th>Ship Mode</th>\n",
       "      <th>Customer_address_ID</th>\n",
       "    </tr>\n",
       "  </thead>\n",
       "  <tbody>\n",
       "    <tr>\n",
       "      <th>0</th>\n",
       "      <td>CA-2020-152156</td>\n",
       "      <td>2020-11-08</td>\n",
       "      <td>2020-11-11</td>\n",
       "      <td>Second Class</td>\n",
       "      <td>1</td>\n",
       "    </tr>\n",
       "    <tr>\n",
       "      <th>1</th>\n",
       "      <td>CA-2019-134894</td>\n",
       "      <td>2019-12-07</td>\n",
       "      <td>2019-12-11</td>\n",
       "      <td>Standard Class</td>\n",
       "      <td>2</td>\n",
       "    </tr>\n",
       "    <tr>\n",
       "      <th>2</th>\n",
       "      <td>CA-2019-162537</td>\n",
       "      <td>2019-10-28</td>\n",
       "      <td>2019-11-03</td>\n",
       "      <td>Standard Class</td>\n",
       "      <td>3</td>\n",
       "    </tr>\n",
       "    <tr>\n",
       "      <th>3</th>\n",
       "      <td>CA-2019-109470</td>\n",
       "      <td>2019-12-31</td>\n",
       "      <td>2020-01-03</td>\n",
       "      <td>Second Class</td>\n",
       "      <td>4</td>\n",
       "    </tr>\n",
       "    <tr>\n",
       "      <th>4</th>\n",
       "      <td>CA-2021-101042</td>\n",
       "      <td>2021-11-19</td>\n",
       "      <td>2021-11-23</td>\n",
       "      <td>Standard Class</td>\n",
       "      <td>5</td>\n",
       "    </tr>\n",
       "  </tbody>\n",
       "</table>\n",
       "</div>"
      ],
      "text/plain": [
       "         Order ID Order Date  Ship Date       Ship Mode  Customer_address_ID\n",
       "0  CA-2020-152156 2020-11-08 2020-11-11    Second Class                    1\n",
       "1  CA-2019-134894 2019-12-07 2019-12-11  Standard Class                    2\n",
       "2  CA-2019-162537 2019-10-28 2019-11-03  Standard Class                    3\n",
       "3  CA-2019-109470 2019-12-31 2020-01-03    Second Class                    4\n",
       "4  CA-2021-101042 2021-11-19 2021-11-23  Standard Class                    5"
      ]
     },
     "execution_count": 67,
     "metadata": {},
     "output_type": "execute_result"
    }
   ],
   "source": [
    "# Create Table 'Customer'\n",
    "name = 'Order'\n",
    "\n",
    "atts = ['Order ID', 'Order Date', 'Ship Date', 'Ship Mode', 'Customer_address_ID']\n",
    "data = df[atts].drop_duplicates(keep='first').reset_index().drop('index', axis=1)\n",
    "# ids = np.arange(1, len(data)+1, dtype=int)\n",
    "# data['Customer_address_ID'] = ids\n",
    "data.head()"
   ]
  },
  {
   "cell_type": "code",
   "execution_count": 68,
   "id": "26e4cde7",
   "metadata": {
    "ExecuteTime": {
     "end_time": "2023-02-20T01:12:31.826221Z",
     "start_time": "2023-02-20T01:12:31.639065Z"
    }
   },
   "outputs": [],
   "source": [
    "rename = {'Order ID': 'Order_ID',\n",
    "          'Order Date': 'Order_Date',\n",
    "          'Ship Date': 'Ship_Date',\n",
    "          'Ship Mode': 'Ship_Mode',\n",
    "         }\n",
    "\n",
    "# Rename\n",
    "data.rename(columns=rename, inplace=True)\n",
    "df.rename(columns=rename, inplace=True)\n",
    "\n",
    "data.to_csv(f'data/v20/{name}.csv', index=False)"
   ]
  },
  {
   "cell_type": "code",
   "execution_count": 69,
   "id": "a279bdd5",
   "metadata": {
    "ExecuteTime": {
     "end_time": "2023-02-20T01:12:32.013988Z",
     "start_time": "2023-02-20T01:12:32.002817Z"
    }
   },
   "outputs": [],
   "source": [
    "# merge_col = ['Customer_ID', 'Postal_Code']\n",
    "\n",
    "# df = pd.merge(df, data[['Customer_ID', 'Postal_Code', 'Customer_address_ID']], how = 'inner', on = ['Customer_ID', 'Postal_Code'])\n",
    "assert df.shape[0]==9646"
   ]
  },
  {
   "cell_type": "markdown",
   "id": "aa1086c1",
   "metadata": {},
   "source": [
    "### Category"
   ]
  },
  {
   "cell_type": "code",
   "execution_count": 70,
   "id": "f0738396",
   "metadata": {
    "ExecuteTime": {
     "end_time": "2023-02-20T01:12:32.833784Z",
     "start_time": "2023-02-20T01:12:32.805739Z"
    }
   },
   "outputs": [
    {
     "data": {
      "text/html": [
       "<div>\n",
       "<style scoped>\n",
       "    .dataframe tbody tr th:only-of-type {\n",
       "        vertical-align: middle;\n",
       "    }\n",
       "\n",
       "    .dataframe tbody tr th {\n",
       "        vertical-align: top;\n",
       "    }\n",
       "\n",
       "    .dataframe thead th {\n",
       "        text-align: right;\n",
       "    }\n",
       "</style>\n",
       "<table border=\"1\" class=\"dataframe\">\n",
       "  <thead>\n",
       "    <tr style=\"text-align: right;\">\n",
       "      <th></th>\n",
       "      <th>Category</th>\n",
       "      <th>Category_ID</th>\n",
       "    </tr>\n",
       "  </thead>\n",
       "  <tbody>\n",
       "    <tr>\n",
       "      <th>0</th>\n",
       "      <td>Furniture</td>\n",
       "      <td>1</td>\n",
       "    </tr>\n",
       "    <tr>\n",
       "      <th>1</th>\n",
       "      <td>Office Supplies</td>\n",
       "      <td>2</td>\n",
       "    </tr>\n",
       "    <tr>\n",
       "      <th>2</th>\n",
       "      <td>Technology</td>\n",
       "      <td>3</td>\n",
       "    </tr>\n",
       "  </tbody>\n",
       "</table>\n",
       "</div>"
      ],
      "text/plain": [
       "          Category  Category_ID\n",
       "0        Furniture            1\n",
       "1  Office Supplies            2\n",
       "2       Technology            3"
      ]
     },
     "execution_count": 70,
     "metadata": {},
     "output_type": "execute_result"
    }
   ],
   "source": [
    "# Create Table 'Customer'\n",
    "name = 'Category'\n",
    "\n",
    "atts = ['Category']\n",
    "data = df[atts].drop_duplicates(keep='first').reset_index().drop('index', axis=1)\n",
    "ids = np.arange(1, len(data)+1, dtype=int)\n",
    "data['Category_ID'] = ids\n",
    "data.head()"
   ]
  },
  {
   "cell_type": "code",
   "execution_count": 71,
   "id": "9158a528",
   "metadata": {
    "ExecuteTime": {
     "end_time": "2023-02-20T01:12:33.267900Z",
     "start_time": "2023-02-20T01:12:33.252645Z"
    }
   },
   "outputs": [],
   "source": [
    "rename = {'Category': 'Category_Name',\n",
    "         }\n",
    "\n",
    "# Rename\n",
    "data.rename(columns=rename, inplace=True)\n",
    "df.rename(columns=rename, inplace=True)\n",
    "\n",
    "data.to_csv(f'data/v20/{name}.csv', index=False)"
   ]
  },
  {
   "cell_type": "code",
   "execution_count": 72,
   "id": "8e4a6e10",
   "metadata": {
    "ExecuteTime": {
     "end_time": "2023-02-20T01:12:33.653910Z",
     "start_time": "2023-02-20T01:12:33.622543Z"
    }
   },
   "outputs": [],
   "source": [
    "df = pd.merge(df, data, how = 'inner', on = ['Category_Name'])\n",
    "assert df.shape[0]==9646"
   ]
  },
  {
   "cell_type": "markdown",
   "id": "fbd6e551",
   "metadata": {},
   "source": [
    "### SubCategory"
   ]
  },
  {
   "cell_type": "code",
   "execution_count": 73,
   "id": "1c7ac7b9",
   "metadata": {
    "ExecuteTime": {
     "end_time": "2023-02-20T01:12:34.352794Z",
     "start_time": "2023-02-20T01:12:34.302351Z"
    }
   },
   "outputs": [
    {
     "data": {
      "text/html": [
       "<div>\n",
       "<style scoped>\n",
       "    .dataframe tbody tr th:only-of-type {\n",
       "        vertical-align: middle;\n",
       "    }\n",
       "\n",
       "    .dataframe tbody tr th {\n",
       "        vertical-align: top;\n",
       "    }\n",
       "\n",
       "    .dataframe thead th {\n",
       "        text-align: right;\n",
       "    }\n",
       "</style>\n",
       "<table border=\"1\" class=\"dataframe\">\n",
       "  <thead>\n",
       "    <tr style=\"text-align: right;\">\n",
       "      <th></th>\n",
       "      <th>Category_ID</th>\n",
       "      <th>Sub-Category</th>\n",
       "      <th>SubCategory_ID</th>\n",
       "    </tr>\n",
       "  </thead>\n",
       "  <tbody>\n",
       "    <tr>\n",
       "      <th>0</th>\n",
       "      <td>1</td>\n",
       "      <td>Bookcases</td>\n",
       "      <td>1</td>\n",
       "    </tr>\n",
       "    <tr>\n",
       "      <th>1</th>\n",
       "      <td>1</td>\n",
       "      <td>Chairs</td>\n",
       "      <td>2</td>\n",
       "    </tr>\n",
       "    <tr>\n",
       "      <th>2</th>\n",
       "      <td>1</td>\n",
       "      <td>Furnishings</td>\n",
       "      <td>3</td>\n",
       "    </tr>\n",
       "    <tr>\n",
       "      <th>3</th>\n",
       "      <td>1</td>\n",
       "      <td>Tables</td>\n",
       "      <td>4</td>\n",
       "    </tr>\n",
       "    <tr>\n",
       "      <th>4</th>\n",
       "      <td>2</td>\n",
       "      <td>Appliances</td>\n",
       "      <td>5</td>\n",
       "    </tr>\n",
       "  </tbody>\n",
       "</table>\n",
       "</div>"
      ],
      "text/plain": [
       "   Category_ID Sub-Category  SubCategory_ID\n",
       "0            1    Bookcases               1\n",
       "1            1       Chairs               2\n",
       "2            1  Furnishings               3\n",
       "3            1       Tables               4\n",
       "4            2   Appliances               5"
      ]
     },
     "execution_count": 73,
     "metadata": {},
     "output_type": "execute_result"
    }
   ],
   "source": [
    "# Create Table 'Customer'\n",
    "name = 'SubCategory'\n",
    "\n",
    "atts = ['Category_ID', 'Sub-Category']\n",
    "data = df[atts].drop_duplicates(keep='first').reset_index().drop('index', axis=1)\n",
    "ids = np.arange(1, len(data)+1, dtype=int)\n",
    "data['SubCategory_ID'] = ids\n",
    "data.head()"
   ]
  },
  {
   "cell_type": "code",
   "execution_count": 74,
   "id": "4ef85d2c",
   "metadata": {
    "ExecuteTime": {
     "end_time": "2023-02-20T01:12:34.726007Z",
     "start_time": "2023-02-20T01:12:34.699577Z"
    }
   },
   "outputs": [],
   "source": [
    "rename = {'Sub-Category': 'SubCategory_Name',\n",
    "         }\n",
    "\n",
    "# Rename\n",
    "data.rename(columns=rename, inplace=True)\n",
    "df.rename(columns=rename, inplace=True)\n",
    "\n",
    "data.to_csv(f'data/v20/{name}.csv', index=False)"
   ]
  },
  {
   "cell_type": "code",
   "execution_count": 75,
   "id": "f1ef18c9",
   "metadata": {
    "ExecuteTime": {
     "end_time": "2023-02-20T01:12:35.069327Z",
     "start_time": "2023-02-20T01:12:35.027700Z"
    }
   },
   "outputs": [],
   "source": [
    "df = pd.merge(df, data, how = 'inner', on = ['Category_ID', 'SubCategory_Name'])\n",
    "assert df.shape[0]==9646"
   ]
  },
  {
   "cell_type": "code",
   "execution_count": 76,
   "id": "e89e71ae",
   "metadata": {
    "ExecuteTime": {
     "end_time": "2023-02-20T01:12:35.426969Z",
     "start_time": "2023-02-20T01:12:35.405822Z"
    }
   },
   "outputs": [
    {
     "data": {
      "text/plain": [
       "Index(['Order_ID', 'Order_Date', 'Ship_Date', 'Ship_Mode', 'Customer_ID',\n",
       "       'Customer_Name', 'Segment', 'Country', 'City', 'State', 'Postal_Code',\n",
       "       'Region_name', 'Product ID', 'Category_Name', 'SubCategory_Name',\n",
       "       'Product Name', 'Sales', 'Quantity', 'Discount', 'Profit',\n",
       "       'sub_category_id', 'city_id', 'segment_id', 'Country_ID', 'Region_ID',\n",
       "       'State_ID', 'City_ID', 'Postal_Code_ID', 'Customer_address_ID',\n",
       "       'Category_ID', 'SubCategory_ID'],\n",
       "      dtype='object')"
      ]
     },
     "execution_count": 76,
     "metadata": {},
     "output_type": "execute_result"
    }
   ],
   "source": [
    "df.columns"
   ]
  },
  {
   "cell_type": "markdown",
   "id": "c6860e12",
   "metadata": {},
   "source": [
    "### Product"
   ]
  },
  {
   "cell_type": "code",
   "execution_count": 77,
   "id": "5f128678",
   "metadata": {
    "ExecuteTime": {
     "end_time": "2023-02-20T01:12:36.200252Z",
     "start_time": "2023-02-20T01:12:36.155243Z"
    }
   },
   "outputs": [
    {
     "data": {
      "text/html": [
       "<div>\n",
       "<style scoped>\n",
       "    .dataframe tbody tr th:only-of-type {\n",
       "        vertical-align: middle;\n",
       "    }\n",
       "\n",
       "    .dataframe tbody tr th {\n",
       "        vertical-align: top;\n",
       "    }\n",
       "\n",
       "    .dataframe thead th {\n",
       "        text-align: right;\n",
       "    }\n",
       "</style>\n",
       "<table border=\"1\" class=\"dataframe\">\n",
       "  <thead>\n",
       "    <tr style=\"text-align: right;\">\n",
       "      <th></th>\n",
       "      <th>Product Name</th>\n",
       "      <th>SubCategory_ID</th>\n",
       "      <th>Product_ID</th>\n",
       "    </tr>\n",
       "  </thead>\n",
       "  <tbody>\n",
       "    <tr>\n",
       "      <th>0</th>\n",
       "      <td>Bush Somerset Collection Bookcase</td>\n",
       "      <td>1</td>\n",
       "      <td>1</td>\n",
       "    </tr>\n",
       "    <tr>\n",
       "      <th>1</th>\n",
       "      <td>O'Sullivan Manor Hill 2-Door Library in Brianna Oak</td>\n",
       "      <td>1</td>\n",
       "      <td>2</td>\n",
       "    </tr>\n",
       "    <tr>\n",
       "      <th>2</th>\n",
       "      <td>Bush Mission Pointe Library</td>\n",
       "      <td>1</td>\n",
       "      <td>3</td>\n",
       "    </tr>\n",
       "    <tr>\n",
       "      <th>3</th>\n",
       "      <td>O'Sullivan Living Dimensions 2-Shelf Bookcases</td>\n",
       "      <td>1</td>\n",
       "      <td>4</td>\n",
       "    </tr>\n",
       "    <tr>\n",
       "      <th>4</th>\n",
       "      <td>O'Sullivan 2-Shelf Heavy-Duty Bookcases</td>\n",
       "      <td>1</td>\n",
       "      <td>5</td>\n",
       "    </tr>\n",
       "  </tbody>\n",
       "</table>\n",
       "</div>"
      ],
      "text/plain": [
       "                                          Product Name  SubCategory_ID  \\\n",
       "0                    Bush Somerset Collection Bookcase               1   \n",
       "1  O'Sullivan Manor Hill 2-Door Library in Brianna Oak               1   \n",
       "2                          Bush Mission Pointe Library               1   \n",
       "3       O'Sullivan Living Dimensions 2-Shelf Bookcases               1   \n",
       "4              O'Sullivan 2-Shelf Heavy-Duty Bookcases               1   \n",
       "\n",
       "   Product_ID  \n",
       "0           1  \n",
       "1           2  \n",
       "2           3  \n",
       "3           4  \n",
       "4           5  "
      ]
     },
     "execution_count": 77,
     "metadata": {},
     "output_type": "execute_result"
    }
   ],
   "source": [
    "# Create Table 'Customer'\n",
    "name = 'Product'\n",
    "\n",
    "atts = ['Product Name', 'SubCategory_ID']\n",
    "data = df[atts].drop_duplicates(keep='first').reset_index().drop('index', axis=1)\n",
    "ids = np.arange(1, len(data)+1, dtype=int)\n",
    "data['Product_ID'] = ids\n",
    "data.head()"
   ]
  },
  {
   "cell_type": "code",
   "execution_count": 78,
   "id": "9a9242bf",
   "metadata": {
    "ExecuteTime": {
     "end_time": "2023-02-20T01:12:36.464093Z",
     "start_time": "2023-02-20T01:12:36.443784Z"
    }
   },
   "outputs": [],
   "source": [
    "rename = {'Product Name': 'Product_Name',\n",
    "         }\n",
    "\n",
    "# Rename\n",
    "data.rename(columns=rename, inplace=True)\n",
    "df.rename(columns=rename, inplace=True)\n",
    "\n",
    "data.to_csv(f'data/v20/{name}.csv', index=False)"
   ]
  },
  {
   "cell_type": "code",
   "execution_count": 79,
   "id": "d6de9d03",
   "metadata": {
    "ExecuteTime": {
     "end_time": "2023-02-20T01:12:36.802983Z",
     "start_time": "2023-02-20T01:12:36.762809Z"
    }
   },
   "outputs": [],
   "source": [
    "df = pd.merge(df, data, how = 'inner', on = ['SubCategory_ID', 'Product_Name'])\n",
    "assert df.shape[0]==9646"
   ]
  },
  {
   "cell_type": "markdown",
   "id": "11261d8e",
   "metadata": {},
   "source": [
    "### Order_Product"
   ]
  },
  {
   "cell_type": "code",
   "execution_count": 80,
   "id": "aeeffede",
   "metadata": {
    "ExecuteTime": {
     "end_time": "2023-02-20T01:12:37.444980Z",
     "start_time": "2023-02-20T01:12:37.394495Z"
    }
   },
   "outputs": [
    {
     "data": {
      "text/html": [
       "<div>\n",
       "<style scoped>\n",
       "    .dataframe tbody tr th:only-of-type {\n",
       "        vertical-align: middle;\n",
       "    }\n",
       "\n",
       "    .dataframe tbody tr th {\n",
       "        vertical-align: top;\n",
       "    }\n",
       "\n",
       "    .dataframe thead th {\n",
       "        text-align: right;\n",
       "    }\n",
       "</style>\n",
       "<table border=\"1\" class=\"dataframe\">\n",
       "  <thead>\n",
       "    <tr style=\"text-align: right;\">\n",
       "      <th></th>\n",
       "      <th>Order_ID</th>\n",
       "      <th>Product_ID</th>\n",
       "      <th>Sales</th>\n",
       "      <th>Quantity</th>\n",
       "      <th>Profit</th>\n",
       "      <th>Discount</th>\n",
       "    </tr>\n",
       "  </thead>\n",
       "  <tbody>\n",
       "    <tr>\n",
       "      <th>0</th>\n",
       "      <td>CA-2020-152156</td>\n",
       "      <td>1</td>\n",
       "      <td>261.960</td>\n",
       "      <td>2</td>\n",
       "      <td>41.9136</td>\n",
       "      <td>0.00</td>\n",
       "    </tr>\n",
       "    <tr>\n",
       "      <th>1</th>\n",
       "      <td>CA-2021-110198</td>\n",
       "      <td>2</td>\n",
       "      <td>314.352</td>\n",
       "      <td>3</td>\n",
       "      <td>-15.7176</td>\n",
       "      <td>0.20</td>\n",
       "    </tr>\n",
       "    <tr>\n",
       "      <th>2</th>\n",
       "      <td>CA-2020-117681</td>\n",
       "      <td>3</td>\n",
       "      <td>556.665</td>\n",
       "      <td>5</td>\n",
       "      <td>6.5490</td>\n",
       "      <td>0.15</td>\n",
       "    </tr>\n",
       "    <tr>\n",
       "      <th>3</th>\n",
       "      <td>CA-2021-159793</td>\n",
       "      <td>4</td>\n",
       "      <td>130.980</td>\n",
       "      <td>2</td>\n",
       "      <td>-89.0664</td>\n",
       "      <td>0.50</td>\n",
       "    </tr>\n",
       "    <tr>\n",
       "      <th>4</th>\n",
       "      <td>CA-2021-124765</td>\n",
       "      <td>5</td>\n",
       "      <td>723.920</td>\n",
       "      <td>5</td>\n",
       "      <td>-81.4410</td>\n",
       "      <td>0.20</td>\n",
       "    </tr>\n",
       "  </tbody>\n",
       "</table>\n",
       "</div>"
      ],
      "text/plain": [
       "         Order_ID  Product_ID    Sales  Quantity   Profit  Discount\n",
       "0  CA-2020-152156           1  261.960         2  41.9136      0.00\n",
       "1  CA-2021-110198           2  314.352         3 -15.7176      0.20\n",
       "2  CA-2020-117681           3  556.665         5   6.5490      0.15\n",
       "3  CA-2021-159793           4  130.980         2 -89.0664      0.50\n",
       "4  CA-2021-124765           5  723.920         5 -81.4410      0.20"
      ]
     },
     "execution_count": 80,
     "metadata": {},
     "output_type": "execute_result"
    }
   ],
   "source": [
    "# Create Table 'Customer'\n",
    "name = 'Order_Product'\n",
    "\n",
    "atts = ['Order_ID', 'Product_ID', 'Sales', 'Quantity',  'Profit','Discount']\n",
    "data = df[atts].drop_duplicates(keep='first').reset_index().drop('index', axis=1)\n",
    "ids = np.arange(1, len(data)+1, dtype=int)\n",
    "data['Product_ID'] = ids\n",
    "data.head()"
   ]
  },
  {
   "cell_type": "code",
   "execution_count": 81,
   "id": "ef982b1c",
   "metadata": {
    "ExecuteTime": {
     "end_time": "2023-02-20T01:12:37.831877Z",
     "start_time": "2023-02-20T01:12:37.728311Z"
    }
   },
   "outputs": [],
   "source": [
    "# rename = {'Product Name': 'Product_Name',\n",
    "#          }\n",
    "\n",
    "# # Rename\n",
    "# data.rename(columns=rename, inplace=True)\n",
    "# df.rename(columns=rename, inplace=True)\n",
    "\n",
    "data.to_csv(f'data/v20/{name}.csv', index=False)"
   ]
  },
  {
   "cell_type": "code",
   "execution_count": 82,
   "id": "834c904a",
   "metadata": {
    "ExecuteTime": {
     "end_time": "2023-02-20T01:12:38.049847Z",
     "start_time": "2023-02-20T01:12:38.034918Z"
    }
   },
   "outputs": [],
   "source": [
    "# df = pd.merge(df, data, how = 'inner', on = ['SubCategory_ID', 'Product_Name'])\n",
    "assert df.shape[0]==9646"
   ]
  },
  {
   "cell_type": "code",
   "execution_count": null,
   "id": "dc292db8",
   "metadata": {},
   "outputs": [],
   "source": []
  },
  {
   "cell_type": "code",
   "execution_count": null,
   "id": "976e22ee",
   "metadata": {},
   "outputs": [],
   "source": []
  },
  {
   "cell_type": "code",
   "execution_count": null,
   "id": "f9542bb0",
   "metadata": {},
   "outputs": [],
   "source": []
  },
  {
   "cell_type": "code",
   "execution_count": null,
   "id": "f421a8c5",
   "metadata": {},
   "outputs": [],
   "source": []
  },
  {
   "cell_type": "code",
   "execution_count": null,
   "id": "b9e8d1b5",
   "metadata": {},
   "outputs": [],
   "source": []
  },
  {
   "cell_type": "code",
   "execution_count": null,
   "id": "c96a1757",
   "metadata": {},
   "outputs": [],
   "source": []
  },
  {
   "cell_type": "code",
   "execution_count": null,
   "id": "32fc26b0",
   "metadata": {},
   "outputs": [],
   "source": []
  },
  {
   "cell_type": "code",
   "execution_count": null,
   "id": "8a2a48ad",
   "metadata": {},
   "outputs": [],
   "source": []
  },
  {
   "cell_type": "code",
   "execution_count": null,
   "id": "51f0271f",
   "metadata": {},
   "outputs": [],
   "source": []
  },
  {
   "cell_type": "code",
   "execution_count": null,
   "id": "f051793e",
   "metadata": {},
   "outputs": [],
   "source": []
  },
  {
   "cell_type": "code",
   "execution_count": null,
   "id": "4000961d",
   "metadata": {},
   "outputs": [],
   "source": []
  },
  {
   "cell_type": "markdown",
   "id": "cebecf26",
   "metadata": {},
   "source": [
    "### Order"
   ]
  },
  {
   "cell_type": "code",
   "execution_count": 103,
   "id": "dfd0d7e7",
   "metadata": {
    "ExecuteTime": {
     "end_time": "2023-02-19T20:32:58.425194Z",
     "start_time": "2023-02-19T20:32:58.328989Z"
    }
   },
   "outputs": [
    {
     "data": {
      "text/plain": [
       "Order Date     True\n",
       "Ship Date      True\n",
       "Ship Mode      True\n",
       "Postal Code    True\n",
       "dtype: bool"
      ]
     },
     "execution_count": 103,
     "metadata": {},
     "output_type": "execute_result"
    }
   ],
   "source": [
    "# Create Table 'Order'\n",
    "\n",
    "atts = ['Order ID', 'Order Date', 'Ship Date', 'Ship Mode', 'Postal Code']\n",
    "order_df_unique = df[atts].groupby('Order ID')[['Order Date', 'Ship Date', 'Ship Mode', 'Postal Code']].nunique()\n",
    "order_df_unique.isin([1]).all()"
   ]
  },
  {
   "cell_type": "code",
   "execution_count": 104,
   "id": "aa5e19d6",
   "metadata": {
    "ExecuteTime": {
     "end_time": "2023-02-19T20:32:58.471158Z",
     "start_time": "2023-02-19T20:32:58.432144Z"
    }
   },
   "outputs": [],
   "source": [
    "order_df = df[atts].drop_duplicates(keep='first').reset_index().drop('index', axis=1) #4920"
   ]
  },
  {
   "cell_type": "code",
   "execution_count": 105,
   "id": "76fe7ab2",
   "metadata": {
    "ExecuteTime": {
     "end_time": "2023-02-19T20:32:58.518142Z",
     "start_time": "2023-02-19T20:32:58.477147Z"
    }
   },
   "outputs": [
    {
     "data": {
      "text/plain": [
       "True"
      ]
     },
     "execution_count": 105,
     "metadata": {},
     "output_type": "execute_result"
    }
   ],
   "source": [
    "# Create Table 'Product'\n",
    "\n",
    "atts = ['Product ID', 'Product Name', 'Sub-Category']\n",
    "product_df_unique = df[atts].groupby('Product ID')['Product Name'].nunique()\n",
    "product_df_unique.isin([1]).all()"
   ]
  },
  {
   "cell_type": "code",
   "execution_count": 106,
   "id": "e68aa88a",
   "metadata": {
    "ExecuteTime": {
     "end_time": "2023-02-19T20:32:58.564217Z",
     "start_time": "2023-02-19T20:32:58.524600Z"
    }
   },
   "outputs": [],
   "source": [
    "product_df = df[atts].drop_duplicates(keep='first').reset_index().drop('index', axis=1) #1829\n",
    "ids = np.arange(1, len(product_df)+1, dtype=int)\n",
    "product_df['Sub-Category ID'] = ids"
   ]
  },
  {
   "cell_type": "code",
   "execution_count": 107,
   "id": "de6cbd7f",
   "metadata": {
    "ExecuteTime": {
     "end_time": "2023-02-19T20:32:58.626545Z",
     "start_time": "2023-02-19T20:32:58.574232Z"
    }
   },
   "outputs": [],
   "source": [
    "# Create Table 'Order-Product'\n",
    "\n",
    "atts = ['Order ID', 'Product ID', 'Sales', 'Quantity', 'Discount', 'Profit']\n",
    "order_product_df = df[atts].drop_duplicates(keep='first').reset_index().drop('index', axis=1)"
   ]
  },
  {
   "cell_type": "code",
   "execution_count": 108,
   "id": "0a434594",
   "metadata": {
    "ExecuteTime": {
     "end_time": "2023-02-19T20:32:58.688133Z",
     "start_time": "2023-02-19T20:32:58.636234Z"
    }
   },
   "outputs": [
    {
     "data": {
      "text/plain": [
       "True"
      ]
     },
     "execution_count": 108,
     "metadata": {},
     "output_type": "execute_result"
    }
   ],
   "source": [
    "# Create Table 'Sub-Category'\n",
    "\n",
    "atts = ['Sub-Category', 'Category']\n",
    "sub_df_unique = df[atts].groupby('Sub-Category')['Category'].nunique()\n",
    "sub_df_unique.isin([1]).all()"
   ]
  },
  {
   "cell_type": "code",
   "execution_count": 109,
   "id": "f82184a8",
   "metadata": {
    "ExecuteTime": {
     "end_time": "2023-02-19T20:32:58.751131Z",
     "start_time": "2023-02-19T20:32:58.708142Z"
    }
   },
   "outputs": [],
   "source": [
    "sub_df = df[atts].drop_duplicates(keep='first').reset_index().drop(['index'], axis=1) #16\n",
    "ids = np.arange(1, len(sub_df)+1, dtype=int)\n",
    "sub_df['Sub-Category ID'] = ids\n",
    "sub_df['Category ID'] = ids"
   ]
  },
  {
   "cell_type": "code",
   "execution_count": 110,
   "id": "b3ba7873",
   "metadata": {
    "ExecuteTime": {
     "end_time": "2023-02-19T20:32:58.812130Z",
     "start_time": "2023-02-19T20:32:58.763136Z"
    }
   },
   "outputs": [],
   "source": [
    "# Create Table 'Category'\n",
    "\n",
    "atts = ['Category']\n",
    "cat_df = df[atts].drop_duplicates(keep='first').reset_index().drop('index', axis=1) #3\n",
    "ids = np.arange(1, len(cat_df)+1, dtype=int)\n",
    "cat_df['Category ID'] = ids"
   ]
  },
  {
   "cell_type": "code",
   "execution_count": 111,
   "id": "b355103a",
   "metadata": {
    "ExecuteTime": {
     "end_time": "2023-02-19T20:32:58.890332Z",
     "start_time": "2023-02-19T20:32:58.822130Z"
    }
   },
   "outputs": [
    {
     "data": {
      "text/plain": [
       "Customer Name    True\n",
       "Segment          True\n",
       "dtype: bool"
      ]
     },
     "execution_count": 111,
     "metadata": {},
     "output_type": "execute_result"
    }
   ],
   "source": [
    "# Create Table 'Customer'\n",
    "\n",
    "atts = ['Customer ID', 'Customer Name', 'Segment']\n",
    "customer_df_unique = df[atts].groupby('Customer ID')[['Customer Name', 'Segment']].nunique()\n",
    "customer_df_unique.isin([1]).all()"
   ]
  },
  {
   "cell_type": "code",
   "execution_count": 112,
   "id": "4ee5e9fb",
   "metadata": {
    "ExecuteTime": {
     "end_time": "2023-02-19T20:32:58.953200Z",
     "start_time": "2023-02-19T20:32:58.897130Z"
    }
   },
   "outputs": [],
   "source": [
    "customer_df = df[atts].drop_duplicates(keep='first').reset_index().drop('index', axis=1)"
   ]
  },
  {
   "cell_type": "code",
   "execution_count": 113,
   "id": "3986e6e4",
   "metadata": {
    "ExecuteTime": {
     "end_time": "2023-02-19T20:32:59.016182Z",
     "start_time": "2023-02-19T20:32:58.963612Z"
    }
   },
   "outputs": [],
   "source": [
    "# Create Table 'Postal'\n",
    "\n",
    "atts = ['Postal Code', 'Customer ID']\n",
    "postal_df = df[atts].drop_duplicates(keep='first').reset_index().drop('index', axis=1) #3\n",
    "ids = np.arange(1, len(postal_df)+1, dtype=int)\n",
    "postal_df['City ID'] = ids"
   ]
  },
  {
   "cell_type": "code",
   "execution_count": 114,
   "id": "6abb6182",
   "metadata": {
    "ExecuteTime": {
     "end_time": "2023-02-19T20:32:59.047962Z",
     "start_time": "2023-02-19T20:32:59.026020Z"
    }
   },
   "outputs": [],
   "source": [
    "# # Create Table 'Customer-Address'\n",
    "\n",
    "# atts = ['Customer ID', 'Postal Code']\n",
    "# customer_address_df = df[atts].drop_duplicates(keep='first').reset_index().drop('index', axis=1)"
   ]
  },
  {
   "cell_type": "code",
   "execution_count": 115,
   "id": "d1719f41",
   "metadata": {
    "ExecuteTime": {
     "end_time": "2023-02-19T20:32:59.109693Z",
     "start_time": "2023-02-19T20:32:59.058061Z"
    }
   },
   "outputs": [],
   "source": [
    "# Create Table 'City'\n",
    "\n",
    "atts = ['City', 'Postal Code', 'State']\n",
    "city_df = df[atts].drop_duplicates(keep='first').reset_index().drop('index', axis=1)\n",
    "ids = np.arange(1, len(city_df)+1, dtype=int)\n",
    "city_df['City ID'] = ids\n",
    "city_df['State ID'] = ids"
   ]
  },
  {
   "cell_type": "code",
   "execution_count": 116,
   "id": "455b2848",
   "metadata": {
    "ExecuteTime": {
     "end_time": "2023-02-19T20:32:59.171549Z",
     "start_time": "2023-02-19T20:32:59.119556Z"
    }
   },
   "outputs": [
    {
     "data": {
      "text/plain": [
       "True"
      ]
     },
     "execution_count": 116,
     "metadata": {},
     "output_type": "execute_result"
    }
   ],
   "source": [
    "# Create Table 'State'\n",
    "\n",
    "atts = ['Region', 'State', 'Postal Code', 'City']\n",
    "state_df_unique = df[atts].groupby('State')['Region'].nunique()\n",
    "state_df_unique.isin([1]).all()"
   ]
  },
  {
   "cell_type": "code",
   "execution_count": 117,
   "id": "9527a01e",
   "metadata": {
    "ExecuteTime": {
     "end_time": "2023-02-19T20:32:59.249156Z",
     "start_time": "2023-02-19T20:32:59.181561Z"
    }
   },
   "outputs": [],
   "source": [
    "state_df = df[atts].drop_duplicates(keep='first').reset_index().drop('index', axis=1)\n",
    "ids = np.arange(1, len(state_df)+1, dtype=int)\n",
    "state_df['State ID'] = ids\n",
    "state_df['Region ID'] = ids"
   ]
  },
  {
   "cell_type": "code",
   "execution_count": 118,
   "id": "3a725adf",
   "metadata": {
    "ExecuteTime": {
     "end_time": "2023-02-19T20:32:59.310874Z",
     "start_time": "2023-02-19T20:32:59.260878Z"
    }
   },
   "outputs": [
    {
     "data": {
      "text/plain": [
       "True"
      ]
     },
     "execution_count": 118,
     "metadata": {},
     "output_type": "execute_result"
    }
   ],
   "source": [
    "# Create Table 'Region'\n",
    "\n",
    "atts = ['Region', 'Country/Region']\n",
    "region_df_unique = df[atts].groupby('Region')['Country/Region'].nunique()\n",
    "region_df_unique.isin([1]).all()"
   ]
  },
  {
   "cell_type": "code",
   "execution_count": 119,
   "id": "e024fd57",
   "metadata": {
    "ExecuteTime": {
     "end_time": "2023-02-19T20:32:59.357896Z",
     "start_time": "2023-02-19T20:32:59.321873Z"
    }
   },
   "outputs": [],
   "source": [
    "region_df = df[atts].drop_duplicates(keep='first').reset_index().drop('index', axis=1)\n",
    "ids = np.arange(1, len(region_df)+1, dtype=int)\n",
    "region_df['Region ID'] = ids\n",
    "region_df['Country ID'] = ids"
   ]
  },
  {
   "cell_type": "code",
   "execution_count": 120,
   "id": "a115ddce",
   "metadata": {
    "ExecuteTime": {
     "end_time": "2023-02-19T20:32:59.403896Z",
     "start_time": "2023-02-19T20:32:59.367893Z"
    }
   },
   "outputs": [],
   "source": [
    "# Create Table 'Country'\n",
    "\n",
    "atts = ['Country/Region']\n",
    "country_df = df[atts].drop_duplicates(keep='first').reset_index().drop('index', axis=1)\n",
    "ids = np.arange(1, len(country_df)+1, dtype=int)\n",
    "country_df['Country ID'] = ids"
   ]
  },
  {
   "cell_type": "code",
   "execution_count": 121,
   "id": "b03146b9",
   "metadata": {
    "ExecuteTime": {
     "end_time": "2023-02-19T20:32:59.449891Z",
     "start_time": "2023-02-19T20:32:59.413895Z"
    }
   },
   "outputs": [
    {
     "name": "stderr",
     "output_type": "stream",
     "text": [
      "C:\\Users\\Roman\\AppData\\Local\\Temp\\ipykernel_17088\\440699364.py:6: SettingWithCopyWarning: \n",
      "A value is trying to be set on a copy of a slice from a DataFrame\n",
      "\n",
      "See the caveats in the documentation: https://pandas.pydata.org/pandas-docs/stable/user_guide/indexing.html#returning-a-view-versus-a-copy\n",
      "  region_df['Country ID'][i] = country_df['Country ID'][j]\n"
     ]
    }
   ],
   "source": [
    "# Map Country IDs\n",
    "\n",
    "for i in range(len(region_df)):\n",
    "    for j in range(len(country_df)):\n",
    "        if region_df['Country/Region'][i] == country_df['Country/Region'][j]:\n",
    "            region_df['Country ID'][i] = country_df['Country ID'][j]\n",
    "            break\n",
    "region_df.drop('Country/Region', axis=1, inplace=True)"
   ]
  },
  {
   "cell_type": "code",
   "execution_count": 122,
   "id": "f62bef6b",
   "metadata": {
    "ExecuteTime": {
     "end_time": "2023-02-19T20:33:00.325081Z",
     "start_time": "2023-02-19T20:32:59.461897Z"
    }
   },
   "outputs": [
    {
     "name": "stderr",
     "output_type": "stream",
     "text": [
      "C:\\Users\\Roman\\AppData\\Local\\Temp\\ipykernel_17088\\774643930.py:6: SettingWithCopyWarning: \n",
      "A value is trying to be set on a copy of a slice from a DataFrame\n",
      "\n",
      "See the caveats in the documentation: https://pandas.pydata.org/pandas-docs/stable/user_guide/indexing.html#returning-a-view-versus-a-copy\n",
      "  state_df['Region ID'][i] = region_df['Region ID'][j]\n"
     ]
    }
   ],
   "source": [
    "# Map Region IDs\n",
    "\n",
    "for i in range(len(state_df)):\n",
    "    for j in range(len(region_df)):\n",
    "        if state_df['Region'][i] == region_df['Region'][j]:\n",
    "            state_df['Region ID'][i] = region_df['Region ID'][j]\n",
    "            break"
   ]
  },
  {
   "cell_type": "code",
   "execution_count": 123,
   "id": "e4eee7c1",
   "metadata": {
    "ExecuteTime": {
     "end_time": "2023-02-19T20:33:03.872239Z",
     "start_time": "2023-02-19T20:33:02.276161Z"
    }
   },
   "outputs": [
    {
     "name": "stderr",
     "output_type": "stream",
     "text": [
      "C:\\Users\\Roman\\AppData\\Local\\Temp\\ipykernel_17088\\2920222307.py:6: SettingWithCopyWarning: \n",
      "A value is trying to be set on a copy of a slice from a DataFrame\n",
      "\n",
      "See the caveats in the documentation: https://pandas.pydata.org/pandas-docs/stable/user_guide/indexing.html#returning-a-view-versus-a-copy\n",
      "  city_df['State ID'][i] = state_df['State ID'][j]\n"
     ]
    }
   ],
   "source": [
    "# Map State IDs\n",
    "\n",
    "for i in range(len(city_df)):\n",
    "    for j in range(len(state_df)):\n",
    "        if city_df['State'][i] == state_df['State'][j]:\n",
    "            city_df['State ID'][i] = state_df['State ID'][j]\n",
    "            break"
   ]
  },
  {
   "cell_type": "code",
   "execution_count": 124,
   "id": "a16435dc",
   "metadata": {
    "ExecuteTime": {
     "end_time": "2023-02-19T20:33:07.386937Z",
     "start_time": "2023-02-19T20:33:07.374980Z"
    }
   },
   "outputs": [],
   "source": [
    "# Map City IDs\n",
    "\n",
    "postal_df['City ID'] = city_df['City ID']"
   ]
  },
  {
   "cell_type": "code",
   "execution_count": 125,
   "id": "a901dd0e",
   "metadata": {
    "ExecuteTime": {
     "end_time": "2023-02-19T20:33:20.270379Z",
     "start_time": "2023-02-19T20:33:20.242821Z"
    }
   },
   "outputs": [
    {
     "name": "stderr",
     "output_type": "stream",
     "text": [
      "C:\\Users\\Roman\\AppData\\Local\\Temp\\ipykernel_17088\\2141954761.py:6: SettingWithCopyWarning: \n",
      "A value is trying to be set on a copy of a slice from a DataFrame\n",
      "\n",
      "See the caveats in the documentation: https://pandas.pydata.org/pandas-docs/stable/user_guide/indexing.html#returning-a-view-versus-a-copy\n",
      "  sub_df['Category ID'][i] = cat_df['Category ID'][j]\n"
     ]
    }
   ],
   "source": [
    "# Map Category IDs\n",
    "\n",
    "for i in range(len(sub_df)):\n",
    "    for j in range(len(cat_df)):\n",
    "        if sub_df['Category'][i] == cat_df['Category'][j]:\n",
    "            sub_df['Category ID'][i] = cat_df['Category ID'][j]\n",
    "            break"
   ]
  },
  {
   "cell_type": "code",
   "execution_count": 126,
   "id": "7974850f",
   "metadata": {
    "ExecuteTime": {
     "end_time": "2023-02-19T20:33:24.307162Z",
     "start_time": "2023-02-19T20:33:22.227988Z"
    }
   },
   "outputs": [
    {
     "name": "stderr",
     "output_type": "stream",
     "text": [
      "C:\\Users\\Roman\\AppData\\Local\\Temp\\ipykernel_17088\\457254354.py:6: SettingWithCopyWarning: \n",
      "A value is trying to be set on a copy of a slice from a DataFrame\n",
      "\n",
      "See the caveats in the documentation: https://pandas.pydata.org/pandas-docs/stable/user_guide/indexing.html#returning-a-view-versus-a-copy\n",
      "  product_df['Sub-Category ID'][i] = sub_df['Sub-Category ID'][j]\n"
     ]
    }
   ],
   "source": [
    "# Map Sub-Category IDs\n",
    "\n",
    "for i in range(len(product_df)):\n",
    "    for j in range(len(sub_df)):\n",
    "        if product_df['Sub-Category'][i] == sub_df['Sub-Category'][j]:\n",
    "            product_df['Sub-Category ID'][i] = sub_df['Sub-Category ID'][j]\n",
    "            break"
   ]
  },
  {
   "cell_type": "code",
   "execution_count": 127,
   "id": "4b4efd0e",
   "metadata": {
    "ExecuteTime": {
     "end_time": "2023-02-19T20:37:04.147445Z",
     "start_time": "2023-02-19T20:37:03.600552Z"
    }
   },
   "outputs": [],
   "source": [
    "# Export tables\n",
    "\n",
    "order_df.rename(columns={'Order ID': 'Order_ID', 'Order Date': 'Order_Date', 'Ship Date': 'Ship_Date', 'Ship Mode': 'Ship_Mode', 'Postal Code': 'Postal_Code'}, inplace=True)\n",
    "order_df.to_csv('Order.csv', index=False)\n",
    "\n",
    "product_df.drop('Sub-Category', axis=1, inplace=True)\n",
    "product_df.rename(columns={'Product ID': 'Product_ID', 'Product Name': 'Product_Name', 'Sub-Category ID':'Subcategory_ID'}, inplace=True)\n",
    "product_df.to_csv('Product.csv', index=False)\n",
    "\n",
    "order_product_df.rename(columns={'Order ID': 'Order_ID', 'Product ID': 'Product_ID'}, inplace=True)\n",
    "order_product_df.to_csv('Order_Product.csv', index=False)\n",
    "\n",
    "sub_df.drop('Category', axis=1, inplace=True)\n",
    "sub_df.rename(columns={'Sub-Category':'Subcategory', 'Sub-Category ID':'Subcategory_ID', 'Category ID': 'Category_ID'}, inplace=True)\n",
    "sub_df.to_csv('SubCategory.csv', index=False)\n",
    "\n",
    "cat_df.rename(columns={'Category ID': 'Category_ID'}, inplace=True)\n",
    "cat_df.to_csv('Category.csv', index=False)\n",
    "\n",
    "customer_df.rename(columns={'Customer ID': 'Customer_ID', 'Customer Name': 'Customer_Name'}, inplace=True)\n",
    "customer_df.to_csv('Customer.csv', index=False)\n",
    "\n",
    "postal_df.rename(columns={'City ID': 'City_ID', 'Postal Code': 'Postal_Code', 'Customer ID': 'Customer_ID'}, inplace=True)\n",
    "postal_df.to_csv('Postal.csv', index=False)\n",
    "\n",
    "# customer_address_df.rename(columns={'Customer ID': 'Customer_ID', 'Postal Code': 'Postal_Code'}, inplace=True)\n",
    "# customer_address_df.to_csv('Customer_Address.csv', index=False)\n",
    "\n",
    "city_df.drop('Postal Code', axis=1, inplace=True)\n",
    "city_df.drop('State', axis=1, inplace=True)\n",
    "city_df.rename(columns={'State ID': 'State_ID', 'City ID': 'City_ID'}, inplace=True)\n",
    "city_df.to_csv('City.csv', index=False)\n",
    "\n",
    "state_df.drop('Region', axis=1, inplace=True)\n",
    "state_df.drop('Postal Code', axis=1, inplace=True)\n",
    "state_df.drop('City', axis=1, inplace=True)\n",
    "state_df.rename(columns={'Region ID': 'Region_ID', 'State ID': 'State_ID'}, inplace=True)\n",
    "state_df.to_csv('State.csv', index=False)\n",
    "\n",
    "region_df.rename(columns={'Region ID': 'Region_ID', 'Country ID': 'Country_ID'}, inplace=True)\n",
    "region_df.to_csv('Region.csv', index=False)\n",
    "\n",
    "country_df.rename(columns={'Country/Region': 'Country', 'Country ID': 'Country_ID'}, inplace=True)\n",
    "country_df.to_csv('Country.csv', index=False)"
   ]
  },
  {
   "cell_type": "code",
   "execution_count": null,
   "id": "9e8d33d3",
   "metadata": {},
   "outputs": [],
   "source": []
  }
 ],
 "metadata": {
  "kernelspec": {
   "display_name": "Python 3 (ipykernel)",
   "language": "python",
   "name": "python3"
  },
  "language_info": {
   "codemirror_mode": {
    "name": "ipython",
    "version": 3
   },
   "file_extension": ".py",
   "mimetype": "text/x-python",
   "name": "python",
   "nbconvert_exporter": "python",
   "pygments_lexer": "ipython3",
   "version": "3.9.15"
  },
  "toc": {
   "base_numbering": 1,
   "nav_menu": {},
   "number_sections": true,
   "sideBar": true,
   "skip_h1_title": false,
   "title_cell": "Table of Contents",
   "title_sidebar": "Contents",
   "toc_cell": false,
   "toc_position": {},
   "toc_section_display": true,
   "toc_window_display": false
  }
 },
 "nbformat": 4,
 "nbformat_minor": 5
}
