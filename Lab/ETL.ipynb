{
 "cells": [
  {
   "cell_type": "code",
   "execution_count": 13,
   "id": "1d3f4a45",
   "metadata": {
    "ExecuteTime": {
     "end_time": "2023-02-20T01:54:58.620969Z",
     "start_time": "2023-02-20T01:54:58.612045Z"
    }
   },
   "outputs": [],
   "source": [
    "import xlrd\n",
    "import MySQLdb\n",
    "import pandas as pd\n",
    "\n",
    "# from datetime import datetime\n",
    "import datetime"
   ]
  },
  {
   "cell_type": "code",
   "execution_count": 14,
   "id": "10fcd0f5",
   "metadata": {
    "ExecuteTime": {
     "end_time": "2023-02-20T01:55:03.718997Z",
     "start_time": "2023-02-20T01:55:03.709097Z"
    }
   },
   "outputs": [],
   "source": [
    "# 1. Establish a MySQL connection\n",
    "database = MySQLdb.connect (host=\"localhost\", user = \"root\", passwd = \"1234\", db = \"dm_course_v25\")\n",
    "v = 'v25'"
   ]
  },
  {
   "cell_type": "markdown",
   "id": "5bad6928",
   "metadata": {
    "ExecuteTime": {
     "end_time": "2023-02-16T01:51:23.932701Z",
     "start_time": "2023-02-16T01:51:23.917705Z"
    }
   },
   "source": [
    "### Country"
   ]
  },
  {
   "cell_type": "code",
   "execution_count": 15,
   "id": "5b1c305d",
   "metadata": {
    "ExecuteTime": {
     "end_time": "2023-02-20T01:55:05.605931Z",
     "start_time": "2023-02-20T01:55:05.584970Z"
    }
   },
   "outputs": [
    {
     "data": {
      "text/html": [
       "<div>\n",
       "<style scoped>\n",
       "    .dataframe tbody tr th:only-of-type {\n",
       "        vertical-align: middle;\n",
       "    }\n",
       "\n",
       "    .dataframe tbody tr th {\n",
       "        vertical-align: top;\n",
       "    }\n",
       "\n",
       "    .dataframe thead th {\n",
       "        text-align: right;\n",
       "    }\n",
       "</style>\n",
       "<table border=\"1\" class=\"dataframe\">\n",
       "  <thead>\n",
       "    <tr style=\"text-align: right;\">\n",
       "      <th></th>\n",
       "      <th>Country</th>\n",
       "      <th>Country_ID</th>\n",
       "    </tr>\n",
       "  </thead>\n",
       "  <tbody>\n",
       "    <tr>\n",
       "      <th>0</th>\n",
       "      <td>United States</td>\n",
       "      <td>1</td>\n",
       "    </tr>\n",
       "  </tbody>\n",
       "</table>\n",
       "</div>"
      ],
      "text/plain": [
       "         Country  Country_ID\n",
       "0  United States           1"
      ]
     },
     "execution_count": 15,
     "metadata": {},
     "output_type": "execute_result"
    }
   ],
   "source": [
    "name_file = 'Country'\n",
    "data = pd.read_csv(f'data/{v}/{name_file}.csv')\n",
    "data.head()"
   ]
  },
  {
   "cell_type": "code",
   "execution_count": 16,
   "id": "0b22f316",
   "metadata": {
    "ExecuteTime": {
     "end_time": "2023-02-20T01:55:15.451083Z",
     "start_time": "2023-02-20T01:55:15.418090Z"
    }
   },
   "outputs": [
    {
     "name": "stdout",
     "output_type": "stream",
     "text": [
      "ETL - copleted\n"
     ]
    }
   ],
   "source": [
    "# 1. The name of table\n",
    "name_table = 'Country'\n",
    "\n",
    "# 2. Get the cursor, which is used to traverse the database, line by line\n",
    "cursor = database.cursor()\n",
    "# 3. query\n",
    "query = f\"\"\"INSERT INTO {name_table} (Country, Country_ID) VALUES (%s, %s)\"\"\"\n",
    "\n",
    "for i in range(len(data)):\n",
    "    values =  (data.iloc[i,0], data.iloc[i,1])\n",
    "#     print(values)\n",
    "    cursor.execute(query, values)\n",
    "    \n",
    "# Close the cursor\n",
    "cursor.close()\n",
    "# Commit the transaction\n",
    "database.commit()\n",
    "# Close the database connection\n",
    "# database.close()\n",
    "\n",
    "# 5. Status\n",
    "print('ETL - copleted')    "
   ]
  },
  {
   "cell_type": "markdown",
   "id": "4200ff0d",
   "metadata": {
    "ExecuteTime": {
     "end_time": "2023-02-16T01:51:23.932701Z",
     "start_time": "2023-02-16T01:51:23.917705Z"
    }
   },
   "source": [
    "### Region"
   ]
  },
  {
   "cell_type": "code",
   "execution_count": 17,
   "id": "c408546c",
   "metadata": {
    "ExecuteTime": {
     "end_time": "2023-02-20T01:55:17.160287Z",
     "start_time": "2023-02-20T01:55:17.137167Z"
    }
   },
   "outputs": [
    {
     "data": {
      "text/html": [
       "<div>\n",
       "<style scoped>\n",
       "    .dataframe tbody tr th:only-of-type {\n",
       "        vertical-align: middle;\n",
       "    }\n",
       "\n",
       "    .dataframe tbody tr th {\n",
       "        vertical-align: top;\n",
       "    }\n",
       "\n",
       "    .dataframe thead th {\n",
       "        text-align: right;\n",
       "    }\n",
       "</style>\n",
       "<table border=\"1\" class=\"dataframe\">\n",
       "  <thead>\n",
       "    <tr style=\"text-align: right;\">\n",
       "      <th></th>\n",
       "      <th>Region_name</th>\n",
       "      <th>Country_ID</th>\n",
       "      <th>Region_ID</th>\n",
       "    </tr>\n",
       "  </thead>\n",
       "  <tbody>\n",
       "    <tr>\n",
       "      <th>0</th>\n",
       "      <td>South</td>\n",
       "      <td>1</td>\n",
       "      <td>1</td>\n",
       "    </tr>\n",
       "    <tr>\n",
       "      <th>1</th>\n",
       "      <td>West</td>\n",
       "      <td>1</td>\n",
       "      <td>2</td>\n",
       "    </tr>\n",
       "    <tr>\n",
       "      <th>2</th>\n",
       "      <td>Central</td>\n",
       "      <td>1</td>\n",
       "      <td>3</td>\n",
       "    </tr>\n",
       "    <tr>\n",
       "      <th>3</th>\n",
       "      <td>East</td>\n",
       "      <td>1</td>\n",
       "      <td>4</td>\n",
       "    </tr>\n",
       "  </tbody>\n",
       "</table>\n",
       "</div>"
      ],
      "text/plain": [
       "  Region_name  Country_ID  Region_ID\n",
       "0       South           1          1\n",
       "1        West           1          2\n",
       "2     Central           1          3\n",
       "3        East           1          4"
      ]
     },
     "execution_count": 17,
     "metadata": {},
     "output_type": "execute_result"
    }
   ],
   "source": [
    "name_file = 'Region'\n",
    "data = pd.read_csv(f'data/{v}/{name_file}.csv')\n",
    "data.head()"
   ]
  },
  {
   "cell_type": "code",
   "execution_count": 18,
   "id": "f715b72a",
   "metadata": {
    "ExecuteTime": {
     "end_time": "2023-02-20T01:55:17.733998Z",
     "start_time": "2023-02-20T01:55:17.717888Z"
    }
   },
   "outputs": [],
   "source": [
    "data = data[['Region_ID', 'Region_name', 'Country_ID']]"
   ]
  },
  {
   "cell_type": "code",
   "execution_count": 19,
   "id": "eaf1feca",
   "metadata": {
    "ExecuteTime": {
     "end_time": "2023-02-20T01:55:19.331299Z",
     "start_time": "2023-02-20T01:55:19.305911Z"
    }
   },
   "outputs": [
    {
     "name": "stdout",
     "output_type": "stream",
     "text": [
      "ETL - copleted\n"
     ]
    }
   ],
   "source": [
    "# 1. The name of table\n",
    "name_table = 'region'\n",
    "\n",
    "# 2. Get the cursor, which is used to traverse the database, line by line\n",
    "cursor = database.cursor()\n",
    "# 3. query\n",
    "query = f\"\"\"INSERT INTO {name_table} (Region_ID, Region_name, Country_ID) VALUES (%s, %s, %s)\"\"\"\n",
    "\n",
    "for i in range(len(data)):\n",
    "    values =  (data.iloc[i,0], data.iloc[i,1], data.iloc[i,2])\n",
    "#     print(values)\n",
    "    cursor.execute(query, values)\n",
    "    \n",
    "# Close the cursor\n",
    "cursor.close()\n",
    "# Commit the transaction\n",
    "database.commit()\n",
    "# Close the database connection\n",
    "# database.close()\n",
    "\n",
    "# 5. Status\n",
    "print('ETL - copleted')    "
   ]
  },
  {
   "cell_type": "markdown",
   "id": "bb9756af",
   "metadata": {
    "ExecuteTime": {
     "end_time": "2023-02-16T01:51:23.932701Z",
     "start_time": "2023-02-16T01:51:23.917705Z"
    }
   },
   "source": [
    "### State"
   ]
  },
  {
   "cell_type": "code",
   "execution_count": 20,
   "id": "6dba7489",
   "metadata": {
    "ExecuteTime": {
     "end_time": "2023-02-20T01:55:21.999119Z",
     "start_time": "2023-02-20T01:55:21.961913Z"
    }
   },
   "outputs": [
    {
     "data": {
      "text/html": [
       "<div>\n",
       "<style scoped>\n",
       "    .dataframe tbody tr th:only-of-type {\n",
       "        vertical-align: middle;\n",
       "    }\n",
       "\n",
       "    .dataframe tbody tr th {\n",
       "        vertical-align: top;\n",
       "    }\n",
       "\n",
       "    .dataframe thead th {\n",
       "        text-align: right;\n",
       "    }\n",
       "</style>\n",
       "<table border=\"1\" class=\"dataframe\">\n",
       "  <thead>\n",
       "    <tr style=\"text-align: right;\">\n",
       "      <th></th>\n",
       "      <th>State</th>\n",
       "      <th>Region_ID</th>\n",
       "      <th>State_ID</th>\n",
       "    </tr>\n",
       "  </thead>\n",
       "  <tbody>\n",
       "    <tr>\n",
       "      <th>0</th>\n",
       "      <td>Kentucky</td>\n",
       "      <td>1</td>\n",
       "      <td>1</td>\n",
       "    </tr>\n",
       "    <tr>\n",
       "      <th>1</th>\n",
       "      <td>Florida</td>\n",
       "      <td>1</td>\n",
       "      <td>2</td>\n",
       "    </tr>\n",
       "    <tr>\n",
       "      <th>2</th>\n",
       "      <td>North Carolina</td>\n",
       "      <td>1</td>\n",
       "      <td>3</td>\n",
       "    </tr>\n",
       "    <tr>\n",
       "      <th>3</th>\n",
       "      <td>Virginia</td>\n",
       "      <td>1</td>\n",
       "      <td>4</td>\n",
       "    </tr>\n",
       "    <tr>\n",
       "      <th>4</th>\n",
       "      <td>Tennessee</td>\n",
       "      <td>1</td>\n",
       "      <td>5</td>\n",
       "    </tr>\n",
       "  </tbody>\n",
       "</table>\n",
       "</div>"
      ],
      "text/plain": [
       "            State  Region_ID  State_ID\n",
       "0        Kentucky          1         1\n",
       "1         Florida          1         2\n",
       "2  North Carolina          1         3\n",
       "3        Virginia          1         4\n",
       "4       Tennessee          1         5"
      ]
     },
     "execution_count": 20,
     "metadata": {},
     "output_type": "execute_result"
    }
   ],
   "source": [
    "name_file = 'State'\n",
    "data = pd.read_csv(f'data/{v}/{name_file}.csv')\n",
    "data.head()"
   ]
  },
  {
   "cell_type": "code",
   "execution_count": 21,
   "id": "a82ce887",
   "metadata": {
    "ExecuteTime": {
     "end_time": "2023-02-20T01:55:22.740057Z",
     "start_time": "2023-02-20T01:55:22.714197Z"
    }
   },
   "outputs": [
    {
     "data": {
      "text/html": [
       "<div>\n",
       "<style scoped>\n",
       "    .dataframe tbody tr th:only-of-type {\n",
       "        vertical-align: middle;\n",
       "    }\n",
       "\n",
       "    .dataframe tbody tr th {\n",
       "        vertical-align: top;\n",
       "    }\n",
       "\n",
       "    .dataframe thead th {\n",
       "        text-align: right;\n",
       "    }\n",
       "</style>\n",
       "<table border=\"1\" class=\"dataframe\">\n",
       "  <thead>\n",
       "    <tr style=\"text-align: right;\">\n",
       "      <th></th>\n",
       "      <th>State_ID</th>\n",
       "      <th>State</th>\n",
       "      <th>Region_ID</th>\n",
       "    </tr>\n",
       "  </thead>\n",
       "  <tbody>\n",
       "    <tr>\n",
       "      <th>0</th>\n",
       "      <td>1</td>\n",
       "      <td>Kentucky</td>\n",
       "      <td>1</td>\n",
       "    </tr>\n",
       "    <tr>\n",
       "      <th>1</th>\n",
       "      <td>2</td>\n",
       "      <td>Florida</td>\n",
       "      <td>1</td>\n",
       "    </tr>\n",
       "    <tr>\n",
       "      <th>2</th>\n",
       "      <td>3</td>\n",
       "      <td>North Carolina</td>\n",
       "      <td>1</td>\n",
       "    </tr>\n",
       "    <tr>\n",
       "      <th>3</th>\n",
       "      <td>4</td>\n",
       "      <td>Virginia</td>\n",
       "      <td>1</td>\n",
       "    </tr>\n",
       "    <tr>\n",
       "      <th>4</th>\n",
       "      <td>5</td>\n",
       "      <td>Tennessee</td>\n",
       "      <td>1</td>\n",
       "    </tr>\n",
       "  </tbody>\n",
       "</table>\n",
       "</div>"
      ],
      "text/plain": [
       "   State_ID           State  Region_ID\n",
       "0         1        Kentucky          1\n",
       "1         2         Florida          1\n",
       "2         3  North Carolina          1\n",
       "3         4        Virginia          1\n",
       "4         5       Tennessee          1"
      ]
     },
     "execution_count": 21,
     "metadata": {},
     "output_type": "execute_result"
    }
   ],
   "source": [
    "data = data[['State_ID', 'State', 'Region_ID']]\n",
    "data.head()"
   ]
  },
  {
   "cell_type": "code",
   "execution_count": 22,
   "id": "fb2358d2",
   "metadata": {
    "ExecuteTime": {
     "end_time": "2023-02-20T01:55:23.622792Z",
     "start_time": "2023-02-20T01:55:23.561813Z"
    }
   },
   "outputs": [
    {
     "name": "stdout",
     "output_type": "stream",
     "text": [
      "ETL - copleted\n"
     ]
    }
   ],
   "source": [
    "# 1. The name of table\n",
    "name_table = 'state'\n",
    "\n",
    "# 2. Get the cursor, which is used to traverse the database, line by line\n",
    "cursor = database.cursor()\n",
    "# 3. query\n",
    "query = f\"\"\"INSERT INTO {name_table} (State_ID, State, Region_ID) VALUES (%s, %s, %s)\"\"\"\n",
    "\n",
    "for i in range(len(data)):\n",
    "    values =  (data.iloc[i,0], data.iloc[i,1], data.iloc[i,2])\n",
    "#     print(values)\n",
    "    cursor.execute(query, values)\n",
    "    \n",
    "# Close the cursor\n",
    "cursor.close()\n",
    "# Commit the transaction\n",
    "database.commit()\n",
    "# Close the database connection\n",
    "# database.close()\n",
    "\n",
    "# 5. Status\n",
    "print('ETL - copleted')    "
   ]
  },
  {
   "cell_type": "markdown",
   "id": "82b52d3b",
   "metadata": {
    "ExecuteTime": {
     "end_time": "2023-02-16T01:51:23.932701Z",
     "start_time": "2023-02-16T01:51:23.917705Z"
    }
   },
   "source": [
    "### City"
   ]
  },
  {
   "cell_type": "code",
   "execution_count": 23,
   "id": "2f3587a8",
   "metadata": {
    "ExecuteTime": {
     "end_time": "2023-02-20T01:55:25.221069Z",
     "start_time": "2023-02-20T01:55:25.177178Z"
    }
   },
   "outputs": [
    {
     "data": {
      "text/html": [
       "<div>\n",
       "<style scoped>\n",
       "    .dataframe tbody tr th:only-of-type {\n",
       "        vertical-align: middle;\n",
       "    }\n",
       "\n",
       "    .dataframe tbody tr th {\n",
       "        vertical-align: top;\n",
       "    }\n",
       "\n",
       "    .dataframe thead th {\n",
       "        text-align: right;\n",
       "    }\n",
       "</style>\n",
       "<table border=\"1\" class=\"dataframe\">\n",
       "  <thead>\n",
       "    <tr style=\"text-align: right;\">\n",
       "      <th></th>\n",
       "      <th>City</th>\n",
       "      <th>State_ID</th>\n",
       "      <th>City_ID</th>\n",
       "    </tr>\n",
       "  </thead>\n",
       "  <tbody>\n",
       "    <tr>\n",
       "      <th>0</th>\n",
       "      <td>Henderson</td>\n",
       "      <td>1</td>\n",
       "      <td>1</td>\n",
       "    </tr>\n",
       "    <tr>\n",
       "      <th>1</th>\n",
       "      <td>Richmond</td>\n",
       "      <td>1</td>\n",
       "      <td>2</td>\n",
       "    </tr>\n",
       "    <tr>\n",
       "      <th>2</th>\n",
       "      <td>Louisville</td>\n",
       "      <td>1</td>\n",
       "      <td>3</td>\n",
       "    </tr>\n",
       "    <tr>\n",
       "      <th>3</th>\n",
       "      <td>Florence</td>\n",
       "      <td>1</td>\n",
       "      <td>4</td>\n",
       "    </tr>\n",
       "    <tr>\n",
       "      <th>4</th>\n",
       "      <td>Murray</td>\n",
       "      <td>1</td>\n",
       "      <td>5</td>\n",
       "    </tr>\n",
       "  </tbody>\n",
       "</table>\n",
       "</div>"
      ],
      "text/plain": [
       "         City  State_ID  City_ID\n",
       "0   Henderson         1        1\n",
       "1    Richmond         1        2\n",
       "2  Louisville         1        3\n",
       "3    Florence         1        4\n",
       "4      Murray         1        5"
      ]
     },
     "execution_count": 23,
     "metadata": {},
     "output_type": "execute_result"
    }
   ],
   "source": [
    "name_file = 'City'\n",
    "data = pd.read_csv(f'data/{v}/{name_file}.csv')\n",
    "data.head()"
   ]
  },
  {
   "cell_type": "code",
   "execution_count": 24,
   "id": "4c61b968",
   "metadata": {
    "ExecuteTime": {
     "end_time": "2023-02-20T01:55:26.045225Z",
     "start_time": "2023-02-20T01:55:26.033226Z"
    }
   },
   "outputs": [],
   "source": [
    "data = data[['City_ID', 'City', 'State_ID']]\n",
    "# data.head()"
   ]
  },
  {
   "cell_type": "code",
   "execution_count": 25,
   "id": "4974bf2f",
   "metadata": {
    "ExecuteTime": {
     "end_time": "2023-02-20T01:55:27.131870Z",
     "start_time": "2023-02-20T01:55:26.617580Z"
    }
   },
   "outputs": [
    {
     "name": "stdout",
     "output_type": "stream",
     "text": [
      "ETL - copleted\n"
     ]
    }
   ],
   "source": [
    "# 1. The name of table\n",
    "name_table = 'city'\n",
    "\n",
    "# 2. Get the cursor, which is used to traverse the database, line by line\n",
    "cursor = database.cursor()\n",
    "# 3. query\n",
    "query = f\"\"\"INSERT INTO {name_table} (City_ID, City, State_ID) VALUES (%s, %s, %s)\"\"\"\n",
    "\n",
    "for i in range(len(data)):\n",
    "    values =  (data.iloc[i,0], data.iloc[i,1], data.iloc[i,2])\n",
    "#     print(values)\n",
    "    cursor.execute(query, values)\n",
    "    \n",
    "# Close the cursor\n",
    "cursor.close()\n",
    "# Commit the transaction\n",
    "database.commit()\n",
    "# Close the database connection\n",
    "# database.close()\n",
    "\n",
    "# 5. Status\n",
    "print('ETL - copleted')    "
   ]
  },
  {
   "cell_type": "markdown",
   "id": "e8b6a3b7",
   "metadata": {
    "ExecuteTime": {
     "end_time": "2023-02-16T01:51:23.932701Z",
     "start_time": "2023-02-16T01:51:23.917705Z"
    }
   },
   "source": [
    "### Customer"
   ]
  },
  {
   "cell_type": "code",
   "execution_count": 26,
   "id": "e410fd36",
   "metadata": {
    "ExecuteTime": {
     "end_time": "2023-02-20T01:55:28.975915Z",
     "start_time": "2023-02-20T01:55:28.934185Z"
    }
   },
   "outputs": [
    {
     "data": {
      "text/html": [
       "<div>\n",
       "<style scoped>\n",
       "    .dataframe tbody tr th:only-of-type {\n",
       "        vertical-align: middle;\n",
       "    }\n",
       "\n",
       "    .dataframe tbody tr th {\n",
       "        vertical-align: top;\n",
       "    }\n",
       "\n",
       "    .dataframe thead th {\n",
       "        text-align: right;\n",
       "    }\n",
       "</style>\n",
       "<table border=\"1\" class=\"dataframe\">\n",
       "  <thead>\n",
       "    <tr style=\"text-align: right;\">\n",
       "      <th></th>\n",
       "      <th>Customer_ID</th>\n",
       "      <th>Customer_Name</th>\n",
       "      <th>Segment</th>\n",
       "    </tr>\n",
       "  </thead>\n",
       "  <tbody>\n",
       "    <tr>\n",
       "      <th>0</th>\n",
       "      <td>CG-12520</td>\n",
       "      <td>Claire Gute</td>\n",
       "      <td>Consumer</td>\n",
       "    </tr>\n",
       "    <tr>\n",
       "      <th>1</th>\n",
       "      <td>DK-12985</td>\n",
       "      <td>Darren Koutras</td>\n",
       "      <td>Consumer</td>\n",
       "    </tr>\n",
       "    <tr>\n",
       "      <th>2</th>\n",
       "      <td>RD-19585</td>\n",
       "      <td>Rob Dowd</td>\n",
       "      <td>Consumer</td>\n",
       "    </tr>\n",
       "    <tr>\n",
       "      <th>3</th>\n",
       "      <td>KC-16255</td>\n",
       "      <td>Karen Carlisle</td>\n",
       "      <td>Corporate</td>\n",
       "    </tr>\n",
       "    <tr>\n",
       "      <th>4</th>\n",
       "      <td>AB-10105</td>\n",
       "      <td>Adrian Barton</td>\n",
       "      <td>Consumer</td>\n",
       "    </tr>\n",
       "  </tbody>\n",
       "</table>\n",
       "</div>"
      ],
      "text/plain": [
       "  Customer_ID   Customer_Name    Segment\n",
       "0    CG-12520     Claire Gute   Consumer\n",
       "1    DK-12985  Darren Koutras   Consumer\n",
       "2    RD-19585        Rob Dowd   Consumer\n",
       "3    KC-16255  Karen Carlisle  Corporate\n",
       "4    AB-10105   Adrian Barton   Consumer"
      ]
     },
     "execution_count": 26,
     "metadata": {},
     "output_type": "execute_result"
    }
   ],
   "source": [
    "name_file = 'Customer'\n",
    "data = pd.read_csv(f'data/{v}/{name_file}.csv')\n",
    "data.head()"
   ]
  },
  {
   "cell_type": "code",
   "execution_count": 27,
   "id": "00afb0bb",
   "metadata": {
    "ExecuteTime": {
     "end_time": "2023-02-20T01:55:30.369981Z",
     "start_time": "2023-02-20T01:55:30.359059Z"
    }
   },
   "outputs": [],
   "source": [
    "# data = data[['City_ID', 'City', 'State_ID']]\n",
    "# data.head()"
   ]
  },
  {
   "cell_type": "code",
   "execution_count": 28,
   "id": "5fb314e2",
   "metadata": {
    "ExecuteTime": {
     "end_time": "2023-02-20T01:55:33.706030Z",
     "start_time": "2023-02-20T01:55:32.976269Z"
    }
   },
   "outputs": [
    {
     "name": "stdout",
     "output_type": "stream",
     "text": [
      "ETL - copleted\n"
     ]
    }
   ],
   "source": [
    "# 1. The name of table\n",
    "name_table = 'customer'\n",
    "\n",
    "# 2. Get the cursor, which is used to traverse the database, line by line\n",
    "cursor = database.cursor()\n",
    "# 3. query\n",
    "query = f\"\"\"INSERT INTO {name_table} (Customer_ID, Customer_Name, Segment) VALUES (%s, %s, %s)\"\"\"\n",
    "\n",
    "for i in range(len(data)):\n",
    "    values =  (data.iloc[i,0], data.iloc[i,1], data.iloc[i,2])\n",
    "#     print(values)\n",
    "    cursor.execute(query, values)\n",
    "    \n",
    "# Close the cursor\n",
    "cursor.close()\n",
    "# Commit the transaction\n",
    "database.commit()\n",
    "# Close the database connection\n",
    "# database.close()\n",
    "\n",
    "# 5. Status\n",
    "print('ETL - copleted')    "
   ]
  },
  {
   "cell_type": "markdown",
   "id": "7e4b2f80",
   "metadata": {
    "ExecuteTime": {
     "end_time": "2023-02-16T01:51:23.932701Z",
     "start_time": "2023-02-16T01:51:23.917705Z"
    }
   },
   "source": [
    "### Postal"
   ]
  },
  {
   "cell_type": "code",
   "execution_count": 29,
   "id": "e213479c",
   "metadata": {
    "ExecuteTime": {
     "end_time": "2023-02-20T01:55:35.721008Z",
     "start_time": "2023-02-20T01:55:35.685052Z"
    }
   },
   "outputs": [
    {
     "data": {
      "text/html": [
       "<div>\n",
       "<style scoped>\n",
       "    .dataframe tbody tr th:only-of-type {\n",
       "        vertical-align: middle;\n",
       "    }\n",
       "\n",
       "    .dataframe tbody tr th {\n",
       "        vertical-align: top;\n",
       "    }\n",
       "\n",
       "    .dataframe thead th {\n",
       "        text-align: right;\n",
       "    }\n",
       "</style>\n",
       "<table border=\"1\" class=\"dataframe\">\n",
       "  <thead>\n",
       "    <tr style=\"text-align: right;\">\n",
       "      <th></th>\n",
       "      <th>Postal_Code</th>\n",
       "      <th>City_ID</th>\n",
       "      <th>Postal_Code_ID</th>\n",
       "    </tr>\n",
       "  </thead>\n",
       "  <tbody>\n",
       "    <tr>\n",
       "      <th>0</th>\n",
       "      <td>42420</td>\n",
       "      <td>1</td>\n",
       "      <td>1</td>\n",
       "    </tr>\n",
       "    <tr>\n",
       "      <th>1</th>\n",
       "      <td>40475</td>\n",
       "      <td>2</td>\n",
       "      <td>2</td>\n",
       "    </tr>\n",
       "    <tr>\n",
       "      <th>2</th>\n",
       "      <td>40214</td>\n",
       "      <td>3</td>\n",
       "      <td>3</td>\n",
       "    </tr>\n",
       "    <tr>\n",
       "      <th>3</th>\n",
       "      <td>41042</td>\n",
       "      <td>4</td>\n",
       "      <td>4</td>\n",
       "    </tr>\n",
       "    <tr>\n",
       "      <th>4</th>\n",
       "      <td>42071</td>\n",
       "      <td>5</td>\n",
       "      <td>5</td>\n",
       "    </tr>\n",
       "  </tbody>\n",
       "</table>\n",
       "</div>"
      ],
      "text/plain": [
       "   Postal_Code  City_ID  Postal_Code_ID\n",
       "0        42420        1               1\n",
       "1        40475        2               2\n",
       "2        40214        3               3\n",
       "3        41042        4               4\n",
       "4        42071        5               5"
      ]
     },
     "execution_count": 29,
     "metadata": {},
     "output_type": "execute_result"
    }
   ],
   "source": [
    "name_file = 'postal'\n",
    "data = pd.read_csv(f'data/{v}/{name_file}.csv')\n",
    "data.head()"
   ]
  },
  {
   "cell_type": "code",
   "execution_count": 30,
   "id": "19d1ba9f",
   "metadata": {
    "ExecuteTime": {
     "end_time": "2023-02-20T01:55:36.731036Z",
     "start_time": "2023-02-20T01:55:36.708672Z"
    }
   },
   "outputs": [],
   "source": [
    "data = data[['Postal_Code', 'City_ID', 'Postal_Code_ID']]\n",
    "# data.head()"
   ]
  },
  {
   "cell_type": "code",
   "execution_count": 31,
   "id": "f6093391",
   "metadata": {
    "ExecuteTime": {
     "end_time": "2023-02-20T01:55:37.738074Z",
     "start_time": "2023-02-20T01:55:37.256767Z"
    }
   },
   "outputs": [
    {
     "name": "stdout",
     "output_type": "stream",
     "text": [
      "ETL - copleted\n"
     ]
    }
   ],
   "source": [
    "# 1. The name of table\n",
    "name_table = 'postal'\n",
    "\n",
    "# 2. Get the cursor, which is used to traverse the database, line by line\n",
    "cursor = database.cursor()\n",
    "# 3. query\n",
    "query = f\"\"\"INSERT INTO {name_table} (Postal_Code, City_ID, Postal_Code_ID) VALUES (%s, %s, %s)\"\"\"\n",
    "\n",
    "for i in range(len(data)):\n",
    "    values =  (data.iloc[i,0], data.iloc[i,1], data.iloc[i,2])\n",
    "#     print(values)\n",
    "    cursor.execute(query, values)\n",
    "    \n",
    "# Close the cursor\n",
    "cursor.close()\n",
    "# Commit the transaction\n",
    "database.commit()\n",
    "# Close the database connection\n",
    "# database.close()\n",
    "\n",
    "# 5. Status\n",
    "print('ETL - copleted')    "
   ]
  },
  {
   "cell_type": "markdown",
   "id": "c98e3a7e",
   "metadata": {
    "ExecuteTime": {
     "end_time": "2023-02-16T01:51:23.932701Z",
     "start_time": "2023-02-16T01:51:23.917705Z"
    }
   },
   "source": [
    "### Customer_Address"
   ]
  },
  {
   "cell_type": "code",
   "execution_count": 32,
   "id": "861ecf33",
   "metadata": {
    "ExecuteTime": {
     "end_time": "2023-02-20T01:55:39.276248Z",
     "start_time": "2023-02-20T01:55:39.248665Z"
    }
   },
   "outputs": [
    {
     "data": {
      "text/html": [
       "<div>\n",
       "<style scoped>\n",
       "    .dataframe tbody tr th:only-of-type {\n",
       "        vertical-align: middle;\n",
       "    }\n",
       "\n",
       "    .dataframe tbody tr th {\n",
       "        vertical-align: top;\n",
       "    }\n",
       "\n",
       "    .dataframe thead th {\n",
       "        text-align: right;\n",
       "    }\n",
       "</style>\n",
       "<table border=\"1\" class=\"dataframe\">\n",
       "  <thead>\n",
       "    <tr style=\"text-align: right;\">\n",
       "      <th></th>\n",
       "      <th>Customer_ID</th>\n",
       "      <th>Postal_Code_ID</th>\n",
       "      <th>Customer_address_ID</th>\n",
       "    </tr>\n",
       "  </thead>\n",
       "  <tbody>\n",
       "    <tr>\n",
       "      <th>0</th>\n",
       "      <td>CG-12520</td>\n",
       "      <td>1</td>\n",
       "      <td>1</td>\n",
       "    </tr>\n",
       "    <tr>\n",
       "      <th>1</th>\n",
       "      <td>DK-12985</td>\n",
       "      <td>1</td>\n",
       "      <td>2</td>\n",
       "    </tr>\n",
       "    <tr>\n",
       "      <th>2</th>\n",
       "      <td>RD-19585</td>\n",
       "      <td>1</td>\n",
       "      <td>3</td>\n",
       "    </tr>\n",
       "    <tr>\n",
       "      <th>3</th>\n",
       "      <td>KC-16255</td>\n",
       "      <td>1</td>\n",
       "      <td>4</td>\n",
       "    </tr>\n",
       "    <tr>\n",
       "      <th>4</th>\n",
       "      <td>AB-10105</td>\n",
       "      <td>1</td>\n",
       "      <td>5</td>\n",
       "    </tr>\n",
       "  </tbody>\n",
       "</table>\n",
       "</div>"
      ],
      "text/plain": [
       "  Customer_ID  Postal_Code_ID  Customer_address_ID\n",
       "0    CG-12520               1                    1\n",
       "1    DK-12985               1                    2\n",
       "2    RD-19585               1                    3\n",
       "3    KC-16255               1                    4\n",
       "4    AB-10105               1                    5"
      ]
     },
     "execution_count": 32,
     "metadata": {},
     "output_type": "execute_result"
    }
   ],
   "source": [
    "name_file = 'Customer_Address'\n",
    "data = pd.read_csv(f'data/v20/{name_file}.csv')\n",
    "data.head()"
   ]
  },
  {
   "cell_type": "code",
   "execution_count": 33,
   "id": "d15c5d28",
   "metadata": {
    "ExecuteTime": {
     "end_time": "2023-02-20T01:55:39.789417Z",
     "start_time": "2023-02-20T01:55:39.778726Z"
    }
   },
   "outputs": [],
   "source": [
    "# data = data[['City_ID', 'City', 'State_ID']]\n",
    "# data.head()"
   ]
  },
  {
   "cell_type": "code",
   "execution_count": 34,
   "id": "cbeccb6f",
   "metadata": {
    "ExecuteTime": {
     "end_time": "2023-02-20T01:55:44.385559Z",
     "start_time": "2023-02-20T01:55:40.092723Z"
    }
   },
   "outputs": [
    {
     "name": "stdout",
     "output_type": "stream",
     "text": [
      "ETL - copleted\n"
     ]
    }
   ],
   "source": [
    "# 1. The name of table\n",
    "name_table = 'customer_address'\n",
    "\n",
    "# 2. Get the cursor, which is used to traverse the database, line by line\n",
    "cursor = database.cursor()\n",
    "# 3. query\n",
    "query = f\"\"\"INSERT INTO {name_table} (Customer_ID, Postal_Code_ID, Customer_address_ID) VALUES (%s, %s, %s)\"\"\"\n",
    "\n",
    "for i in range(len(data)):\n",
    "    values =  (data.iloc[i,0], data.iloc[i,1], data.iloc[i,2])\n",
    "#     print(values)\n",
    "    cursor.execute(query, values)\n",
    "    \n",
    "# Close the cursor\n",
    "cursor.close()\n",
    "# Commit the transaction\n",
    "database.commit()\n",
    "# Close the database connection\n",
    "# database.close()\n",
    "\n",
    "# 5. Status\n",
    "print('ETL - copleted')    "
   ]
  },
  {
   "cell_type": "markdown",
   "id": "57ee65a0",
   "metadata": {
    "ExecuteTime": {
     "end_time": "2023-02-16T01:51:23.932701Z",
     "start_time": "2023-02-16T01:51:23.917705Z"
    }
   },
   "source": [
    "### Order"
   ]
  },
  {
   "cell_type": "code",
   "execution_count": 35,
   "id": "6cc53758",
   "metadata": {
    "ExecuteTime": {
     "end_time": "2023-02-20T01:55:46.556146Z",
     "start_time": "2023-02-20T01:55:46.496081Z"
    }
   },
   "outputs": [
    {
     "data": {
      "text/html": [
       "<div>\n",
       "<style scoped>\n",
       "    .dataframe tbody tr th:only-of-type {\n",
       "        vertical-align: middle;\n",
       "    }\n",
       "\n",
       "    .dataframe tbody tr th {\n",
       "        vertical-align: top;\n",
       "    }\n",
       "\n",
       "    .dataframe thead th {\n",
       "        text-align: right;\n",
       "    }\n",
       "</style>\n",
       "<table border=\"1\" class=\"dataframe\">\n",
       "  <thead>\n",
       "    <tr style=\"text-align: right;\">\n",
       "      <th></th>\n",
       "      <th>Order_ID</th>\n",
       "      <th>Order_Date</th>\n",
       "      <th>Ship_Date</th>\n",
       "      <th>Ship_Mode</th>\n",
       "      <th>Customer_address_ID</th>\n",
       "    </tr>\n",
       "  </thead>\n",
       "  <tbody>\n",
       "    <tr>\n",
       "      <th>0</th>\n",
       "      <td>CA-2020-152156</td>\n",
       "      <td>2020-11-08</td>\n",
       "      <td>2020-11-11</td>\n",
       "      <td>Second Class</td>\n",
       "      <td>1</td>\n",
       "    </tr>\n",
       "    <tr>\n",
       "      <th>1</th>\n",
       "      <td>CA-2019-134894</td>\n",
       "      <td>2019-12-07</td>\n",
       "      <td>2019-12-11</td>\n",
       "      <td>Standard Class</td>\n",
       "      <td>2</td>\n",
       "    </tr>\n",
       "    <tr>\n",
       "      <th>2</th>\n",
       "      <td>CA-2019-162537</td>\n",
       "      <td>2019-10-28</td>\n",
       "      <td>2019-11-03</td>\n",
       "      <td>Standard Class</td>\n",
       "      <td>3</td>\n",
       "    </tr>\n",
       "    <tr>\n",
       "      <th>3</th>\n",
       "      <td>CA-2019-109470</td>\n",
       "      <td>2019-12-31</td>\n",
       "      <td>2020-01-03</td>\n",
       "      <td>Second Class</td>\n",
       "      <td>4</td>\n",
       "    </tr>\n",
       "    <tr>\n",
       "      <th>4</th>\n",
       "      <td>CA-2021-101042</td>\n",
       "      <td>2021-11-19</td>\n",
       "      <td>2021-11-23</td>\n",
       "      <td>Standard Class</td>\n",
       "      <td>5</td>\n",
       "    </tr>\n",
       "  </tbody>\n",
       "</table>\n",
       "</div>"
      ],
      "text/plain": [
       "         Order_ID  Order_Date   Ship_Date       Ship_Mode  Customer_address_ID\n",
       "0  CA-2020-152156  2020-11-08  2020-11-11    Second Class                    1\n",
       "1  CA-2019-134894  2019-12-07  2019-12-11  Standard Class                    2\n",
       "2  CA-2019-162537  2019-10-28  2019-11-03  Standard Class                    3\n",
       "3  CA-2019-109470  2019-12-31  2020-01-03    Second Class                    4\n",
       "4  CA-2021-101042  2021-11-19  2021-11-23  Standard Class                    5"
      ]
     },
     "execution_count": 35,
     "metadata": {},
     "output_type": "execute_result"
    }
   ],
   "source": [
    "name_file = 'Order'\n",
    "data = pd.read_csv(f'data/{v}/{name_file}.csv')\n",
    "data.head()"
   ]
  },
  {
   "cell_type": "code",
   "execution_count": 36,
   "id": "21ad0bc1",
   "metadata": {
    "ExecuteTime": {
     "end_time": "2023-02-20T01:55:47.165037Z",
     "start_time": "2023-02-20T01:55:47.152036Z"
    }
   },
   "outputs": [],
   "source": [
    "# data['Order_Date'] = pd.to_datetime(data['Order_Date'], format=\"%Y-%m-%d\")\n",
    "# data['Ship_Date'] = pd.to_datetime(data['Ship_Date'], format=\"%Y-%m-%d\")\n",
    "# data.head()"
   ]
  },
  {
   "cell_type": "code",
   "execution_count": 37,
   "id": "53e4b6ce",
   "metadata": {
    "ExecuteTime": {
     "end_time": "2023-02-20T01:56:00.962130Z",
     "start_time": "2023-02-20T01:55:56.118099Z"
    }
   },
   "outputs": [
    {
     "name": "stdout",
     "output_type": "stream",
     "text": [
      "ETL - copleted\n"
     ]
    }
   ],
   "source": [
    "# 1. The name of table\n",
    "name_table = 'order'\n",
    "\n",
    "# 2. Get the cursor, which is used to traverse the database, line by line\n",
    "cursor = database.cursor()\n",
    "# 3. query\n",
    "query = f\"\"\"INSERT INTO dm_course_v25.{name_table} (Order_ID, Order_Date, Ship_Date, Ship_Mode, Customer_address_ID) VALUES (%s, %s, %s, %s, %s)\"\"\"\n",
    "\n",
    "for i in range(len(data)):\n",
    "    values =  (data.iloc[i,0],\n",
    "               data.iloc[i,1], \n",
    "               data.iloc[i,2], \n",
    "               data.iloc[i,3],\n",
    "               data.iloc[i,4])\n",
    "#     print(values)\n",
    "    cursor.execute(query, values)\n",
    "    \n",
    "# Close the cursor\n",
    "cursor.close()\n",
    "# Commit the transaction\n",
    "database.commit()\n",
    "# Close the database connection\n",
    "# database.close()\n",
    "\n",
    "# 5. Status\n",
    "print('ETL - copleted')    "
   ]
  },
  {
   "cell_type": "markdown",
   "id": "40022073",
   "metadata": {
    "ExecuteTime": {
     "end_time": "2023-02-16T01:51:23.932701Z",
     "start_time": "2023-02-16T01:51:23.917705Z"
    }
   },
   "source": [
    "### Category"
   ]
  },
  {
   "cell_type": "code",
   "execution_count": 38,
   "id": "6e52b6c5",
   "metadata": {
    "ExecuteTime": {
     "end_time": "2023-02-20T01:56:02.435256Z",
     "start_time": "2023-02-20T01:56:02.395153Z"
    }
   },
   "outputs": [
    {
     "data": {
      "text/html": [
       "<div>\n",
       "<style scoped>\n",
       "    .dataframe tbody tr th:only-of-type {\n",
       "        vertical-align: middle;\n",
       "    }\n",
       "\n",
       "    .dataframe tbody tr th {\n",
       "        vertical-align: top;\n",
       "    }\n",
       "\n",
       "    .dataframe thead th {\n",
       "        text-align: right;\n",
       "    }\n",
       "</style>\n",
       "<table border=\"1\" class=\"dataframe\">\n",
       "  <thead>\n",
       "    <tr style=\"text-align: right;\">\n",
       "      <th></th>\n",
       "      <th>Category_Name</th>\n",
       "      <th>Category_ID</th>\n",
       "    </tr>\n",
       "  </thead>\n",
       "  <tbody>\n",
       "    <tr>\n",
       "      <th>0</th>\n",
       "      <td>Furniture</td>\n",
       "      <td>1</td>\n",
       "    </tr>\n",
       "    <tr>\n",
       "      <th>1</th>\n",
       "      <td>Office Supplies</td>\n",
       "      <td>2</td>\n",
       "    </tr>\n",
       "    <tr>\n",
       "      <th>2</th>\n",
       "      <td>Technology</td>\n",
       "      <td>3</td>\n",
       "    </tr>\n",
       "  </tbody>\n",
       "</table>\n",
       "</div>"
      ],
      "text/plain": [
       "     Category_Name  Category_ID\n",
       "0        Furniture            1\n",
       "1  Office Supplies            2\n",
       "2       Technology            3"
      ]
     },
     "execution_count": 38,
     "metadata": {},
     "output_type": "execute_result"
    }
   ],
   "source": [
    "name_file = 'Category'\n",
    "data = pd.read_csv(f'data/{v}/{name_file}.csv')\n",
    "data.head()"
   ]
  },
  {
   "cell_type": "code",
   "execution_count": 39,
   "id": "67e59f04",
   "metadata": {
    "ExecuteTime": {
     "end_time": "2023-02-20T01:56:02.931869Z",
     "start_time": "2023-02-20T01:56:02.908439Z"
    }
   },
   "outputs": [],
   "source": [
    "data = data[['Category_ID', 'Category_Name']]\n",
    "# data.head()"
   ]
  },
  {
   "cell_type": "code",
   "execution_count": 40,
   "id": "a8812b2b",
   "metadata": {
    "ExecuteTime": {
     "end_time": "2023-02-20T01:56:03.744929Z",
     "start_time": "2023-02-20T01:56:03.723316Z"
    }
   },
   "outputs": [
    {
     "name": "stdout",
     "output_type": "stream",
     "text": [
      "ETL - copleted\n"
     ]
    }
   ],
   "source": [
    "# 1. The name of table\n",
    "name_table = 'category'\n",
    "\n",
    "# 2. Get the cursor, which is used to traverse the database, line by line\n",
    "cursor = database.cursor()\n",
    "# 3. query\n",
    "query = f\"\"\"INSERT INTO {name_table} (Category_ID, Category_Name) VALUES (%s, %s)\"\"\"\n",
    "\n",
    "for i in range(len(data)):\n",
    "    values =  (data.iloc[i,0], data.iloc[i,1])\n",
    "#     print(values)\n",
    "    cursor.execute(query, values)\n",
    "    \n",
    "# Close the cursor\n",
    "cursor.close()\n",
    "# Commit the transaction\n",
    "database.commit()\n",
    "# Close the database connection\n",
    "# database.close()\n",
    "\n",
    "# 5. Status\n",
    "print('ETL - copleted')    "
   ]
  },
  {
   "cell_type": "markdown",
   "id": "cf13c92b",
   "metadata": {
    "ExecuteTime": {
     "end_time": "2023-02-16T01:51:23.932701Z",
     "start_time": "2023-02-16T01:51:23.917705Z"
    }
   },
   "source": [
    "### SubCategory"
   ]
  },
  {
   "cell_type": "code",
   "execution_count": 41,
   "id": "b214dec5",
   "metadata": {
    "ExecuteTime": {
     "end_time": "2023-02-20T01:56:05.324909Z",
     "start_time": "2023-02-20T01:56:05.306006Z"
    }
   },
   "outputs": [
    {
     "data": {
      "text/html": [
       "<div>\n",
       "<style scoped>\n",
       "    .dataframe tbody tr th:only-of-type {\n",
       "        vertical-align: middle;\n",
       "    }\n",
       "\n",
       "    .dataframe tbody tr th {\n",
       "        vertical-align: top;\n",
       "    }\n",
       "\n",
       "    .dataframe thead th {\n",
       "        text-align: right;\n",
       "    }\n",
       "</style>\n",
       "<table border=\"1\" class=\"dataframe\">\n",
       "  <thead>\n",
       "    <tr style=\"text-align: right;\">\n",
       "      <th></th>\n",
       "      <th>Category_ID</th>\n",
       "      <th>SubCategory_Name</th>\n",
       "      <th>SubCategory_ID</th>\n",
       "    </tr>\n",
       "  </thead>\n",
       "  <tbody>\n",
       "    <tr>\n",
       "      <th>0</th>\n",
       "      <td>1</td>\n",
       "      <td>Bookcases</td>\n",
       "      <td>1</td>\n",
       "    </tr>\n",
       "    <tr>\n",
       "      <th>1</th>\n",
       "      <td>1</td>\n",
       "      <td>Chairs</td>\n",
       "      <td>2</td>\n",
       "    </tr>\n",
       "    <tr>\n",
       "      <th>2</th>\n",
       "      <td>1</td>\n",
       "      <td>Furnishings</td>\n",
       "      <td>3</td>\n",
       "    </tr>\n",
       "    <tr>\n",
       "      <th>3</th>\n",
       "      <td>1</td>\n",
       "      <td>Tables</td>\n",
       "      <td>4</td>\n",
       "    </tr>\n",
       "    <tr>\n",
       "      <th>4</th>\n",
       "      <td>2</td>\n",
       "      <td>Appliances</td>\n",
       "      <td>5</td>\n",
       "    </tr>\n",
       "  </tbody>\n",
       "</table>\n",
       "</div>"
      ],
      "text/plain": [
       "   Category_ID SubCategory_Name  SubCategory_ID\n",
       "0            1        Bookcases               1\n",
       "1            1           Chairs               2\n",
       "2            1      Furnishings               3\n",
       "3            1           Tables               4\n",
       "4            2       Appliances               5"
      ]
     },
     "execution_count": 41,
     "metadata": {},
     "output_type": "execute_result"
    }
   ],
   "source": [
    "name_file = 'subcategory'\n",
    "data = pd.read_csv(f'data/{v}/{name_file}.csv')\n",
    "data.head()"
   ]
  },
  {
   "cell_type": "code",
   "execution_count": 42,
   "id": "6e709f4d",
   "metadata": {
    "ExecuteTime": {
     "end_time": "2023-02-20T01:56:05.696947Z",
     "start_time": "2023-02-20T01:56:05.681693Z"
    }
   },
   "outputs": [],
   "source": [
    "data = data[['SubCategory_ID', 'SubCategory_Name', 'Category_ID']]\n",
    "# data.head()"
   ]
  },
  {
   "cell_type": "code",
   "execution_count": 43,
   "id": "1f9ba109",
   "metadata": {
    "ExecuteTime": {
     "end_time": "2023-02-20T01:56:06.286649Z",
     "start_time": "2023-02-20T01:56:06.253583Z"
    }
   },
   "outputs": [
    {
     "name": "stdout",
     "output_type": "stream",
     "text": [
      "ETL - copleted\n"
     ]
    }
   ],
   "source": [
    "# 1. The name of table\n",
    "name_table = 'subcategory'\n",
    "\n",
    "# 2. Get the cursor, which is used to traverse the database, line by line\n",
    "cursor = database.cursor()\n",
    "# 3. query\n",
    "query = f\"\"\"INSERT INTO {name_table} (SubCategory_ID, SubCategory_Name, Caterogy_ID) VALUES (%s, %s, %s)\"\"\"\n",
    "\n",
    "for i in range(len(data)):\n",
    "    values =  (data.iloc[i,0], data.iloc[i,1], data.iloc[i,2])\n",
    "#     print(values)\n",
    "    cursor.execute(query, values)\n",
    "    \n",
    "# Close the cursor\n",
    "cursor.close()\n",
    "# Commit the transaction\n",
    "database.commit()\n",
    "# Close the database connection\n",
    "# database.close()\n",
    "\n",
    "# 5. Status\n",
    "print('ETL - copleted')    "
   ]
  },
  {
   "cell_type": "markdown",
   "id": "ae893f2b",
   "metadata": {
    "ExecuteTime": {
     "end_time": "2023-02-16T01:51:23.932701Z",
     "start_time": "2023-02-16T01:51:23.917705Z"
    }
   },
   "source": [
    "### product"
   ]
  },
  {
   "cell_type": "code",
   "execution_count": 44,
   "id": "0b254e13",
   "metadata": {
    "ExecuteTime": {
     "end_time": "2023-02-20T01:56:08.006510Z",
     "start_time": "2023-02-20T01:56:07.958406Z"
    }
   },
   "outputs": [
    {
     "data": {
      "text/html": [
       "<div>\n",
       "<style scoped>\n",
       "    .dataframe tbody tr th:only-of-type {\n",
       "        vertical-align: middle;\n",
       "    }\n",
       "\n",
       "    .dataframe tbody tr th {\n",
       "        vertical-align: top;\n",
       "    }\n",
       "\n",
       "    .dataframe thead th {\n",
       "        text-align: right;\n",
       "    }\n",
       "</style>\n",
       "<table border=\"1\" class=\"dataframe\">\n",
       "  <thead>\n",
       "    <tr style=\"text-align: right;\">\n",
       "      <th></th>\n",
       "      <th>Product_Name</th>\n",
       "      <th>SubCategory_ID</th>\n",
       "      <th>Product_ID</th>\n",
       "    </tr>\n",
       "  </thead>\n",
       "  <tbody>\n",
       "    <tr>\n",
       "      <th>0</th>\n",
       "      <td>Bush Somerset Collection Bookcase</td>\n",
       "      <td>1</td>\n",
       "      <td>1</td>\n",
       "    </tr>\n",
       "    <tr>\n",
       "      <th>1</th>\n",
       "      <td>O'Sullivan Manor Hill 2-Door Library in Briann...</td>\n",
       "      <td>1</td>\n",
       "      <td>2</td>\n",
       "    </tr>\n",
       "    <tr>\n",
       "      <th>2</th>\n",
       "      <td>Bush Mission Pointe Library</td>\n",
       "      <td>1</td>\n",
       "      <td>3</td>\n",
       "    </tr>\n",
       "    <tr>\n",
       "      <th>3</th>\n",
       "      <td>O'Sullivan Living Dimensions 2-Shelf Bookcases</td>\n",
       "      <td>1</td>\n",
       "      <td>4</td>\n",
       "    </tr>\n",
       "    <tr>\n",
       "      <th>4</th>\n",
       "      <td>O'Sullivan 2-Shelf Heavy-Duty Bookcases</td>\n",
       "      <td>1</td>\n",
       "      <td>5</td>\n",
       "    </tr>\n",
       "  </tbody>\n",
       "</table>\n",
       "</div>"
      ],
      "text/plain": [
       "                                        Product_Name  SubCategory_ID  \\\n",
       "0                  Bush Somerset Collection Bookcase               1   \n",
       "1  O'Sullivan Manor Hill 2-Door Library in Briann...               1   \n",
       "2                        Bush Mission Pointe Library               1   \n",
       "3     O'Sullivan Living Dimensions 2-Shelf Bookcases               1   \n",
       "4            O'Sullivan 2-Shelf Heavy-Duty Bookcases               1   \n",
       "\n",
       "   Product_ID  \n",
       "0           1  \n",
       "1           2  \n",
       "2           3  \n",
       "3           4  \n",
       "4           5  "
      ]
     },
     "execution_count": 44,
     "metadata": {},
     "output_type": "execute_result"
    }
   ],
   "source": [
    "name_file = 'product'\n",
    "data = pd.read_csv(f'data/{v}/{name_file}.csv')\n",
    "data.head()"
   ]
  },
  {
   "cell_type": "code",
   "execution_count": 45,
   "id": "e92e2582",
   "metadata": {
    "ExecuteTime": {
     "end_time": "2023-02-20T01:56:08.517354Z",
     "start_time": "2023-02-20T01:56:08.501391Z"
    }
   },
   "outputs": [],
   "source": [
    "data = data[['Product_ID', 'Product_Name', 'SubCategory_ID']]\n",
    "# data.head()"
   ]
  },
  {
   "cell_type": "code",
   "execution_count": 46,
   "id": "afb8141c",
   "metadata": {
    "ExecuteTime": {
     "end_time": "2023-02-20T01:56:10.901096Z",
     "start_time": "2023-02-20T01:56:09.284336Z"
    }
   },
   "outputs": [
    {
     "name": "stdout",
     "output_type": "stream",
     "text": [
      "ETL - copleted\n"
     ]
    }
   ],
   "source": [
    "# 1. The name of table\n",
    "name_table = 'product'\n",
    "\n",
    "# 2. Get the cursor, which is used to traverse the database, line by line\n",
    "cursor = database.cursor()\n",
    "# 3. query\n",
    "query = f\"\"\"INSERT INTO {name_table} (Product_ID, Product_Name, SubCategory_ID) VALUES (%s, %s, %s)\"\"\"\n",
    "\n",
    "for i in range(len(data)):\n",
    "    values =  (data.iloc[i,0], data.iloc[i,1], data.iloc[i,2])\n",
    "#     print(values)\n",
    "    cursor.execute(query, values)\n",
    "    \n",
    "# Close the cursor\n",
    "cursor.close()\n",
    "# Commit the transaction\n",
    "database.commit()\n",
    "# Close the database connection\n",
    "# database.close()\n",
    "\n",
    "# 5. Status\n",
    "print('ETL - copleted')    "
   ]
  },
  {
   "cell_type": "markdown",
   "id": "b7957c39",
   "metadata": {
    "ExecuteTime": {
     "end_time": "2023-02-16T01:51:23.932701Z",
     "start_time": "2023-02-16T01:51:23.917705Z"
    }
   },
   "source": [
    "### Order_Product"
   ]
  },
  {
   "cell_type": "code",
   "execution_count": 47,
   "id": "0a081f63",
   "metadata": {
    "ExecuteTime": {
     "end_time": "2023-02-20T01:56:15.005248Z",
     "start_time": "2023-02-20T01:56:14.897897Z"
    }
   },
   "outputs": [
    {
     "data": {
      "text/html": [
       "<div>\n",
       "<style scoped>\n",
       "    .dataframe tbody tr th:only-of-type {\n",
       "        vertical-align: middle;\n",
       "    }\n",
       "\n",
       "    .dataframe tbody tr th {\n",
       "        vertical-align: top;\n",
       "    }\n",
       "\n",
       "    .dataframe thead th {\n",
       "        text-align: right;\n",
       "    }\n",
       "</style>\n",
       "<table border=\"1\" class=\"dataframe\">\n",
       "  <thead>\n",
       "    <tr style=\"text-align: right;\">\n",
       "      <th></th>\n",
       "      <th>Order_ID</th>\n",
       "      <th>Product_ID</th>\n",
       "      <th>Sales</th>\n",
       "      <th>Quantity</th>\n",
       "      <th>Profit</th>\n",
       "      <th>Discount</th>\n",
       "    </tr>\n",
       "  </thead>\n",
       "  <tbody>\n",
       "    <tr>\n",
       "      <th>0</th>\n",
       "      <td>CA-2020-152156</td>\n",
       "      <td>1</td>\n",
       "      <td>261.960</td>\n",
       "      <td>2</td>\n",
       "      <td>41.9136</td>\n",
       "      <td>0.00</td>\n",
       "    </tr>\n",
       "    <tr>\n",
       "      <th>1</th>\n",
       "      <td>CA-2021-110198</td>\n",
       "      <td>1</td>\n",
       "      <td>314.352</td>\n",
       "      <td>3</td>\n",
       "      <td>-15.7176</td>\n",
       "      <td>0.20</td>\n",
       "    </tr>\n",
       "    <tr>\n",
       "      <th>2</th>\n",
       "      <td>CA-2020-117681</td>\n",
       "      <td>1</td>\n",
       "      <td>556.665</td>\n",
       "      <td>5</td>\n",
       "      <td>6.5490</td>\n",
       "      <td>0.15</td>\n",
       "    </tr>\n",
       "    <tr>\n",
       "      <th>3</th>\n",
       "      <td>CA-2021-159793</td>\n",
       "      <td>1</td>\n",
       "      <td>130.980</td>\n",
       "      <td>2</td>\n",
       "      <td>-89.0664</td>\n",
       "      <td>0.50</td>\n",
       "    </tr>\n",
       "    <tr>\n",
       "      <th>4</th>\n",
       "      <td>CA-2021-124765</td>\n",
       "      <td>2</td>\n",
       "      <td>723.920</td>\n",
       "      <td>5</td>\n",
       "      <td>-81.4410</td>\n",
       "      <td>0.20</td>\n",
       "    </tr>\n",
       "  </tbody>\n",
       "</table>\n",
       "</div>"
      ],
      "text/plain": [
       "         Order_ID  Product_ID    Sales  Quantity   Profit  Discount\n",
       "0  CA-2020-152156           1  261.960         2  41.9136      0.00\n",
       "1  CA-2021-110198           1  314.352         3 -15.7176      0.20\n",
       "2  CA-2020-117681           1  556.665         5   6.5490      0.15\n",
       "3  CA-2021-159793           1  130.980         2 -89.0664      0.50\n",
       "4  CA-2021-124765           2  723.920         5 -81.4410      0.20"
      ]
     },
     "execution_count": 47,
     "metadata": {},
     "output_type": "execute_result"
    }
   ],
   "source": [
    "name_file = 'Order_Product'\n",
    "data = pd.read_csv(f'data/{v}/{name_file}.csv')\n",
    "data.head()"
   ]
  },
  {
   "cell_type": "code",
   "execution_count": 48,
   "id": "3b629595",
   "metadata": {
    "ExecuteTime": {
     "end_time": "2023-02-20T01:56:16.664547Z",
     "start_time": "2023-02-20T01:56:16.646065Z"
    }
   },
   "outputs": [],
   "source": [
    "# data = data[['Order_ID', 'Product_ID', 'Sales', 'Quantity', 'Profit',' Discount']]\n",
    "# data.head()"
   ]
  },
  {
   "cell_type": "code",
   "execution_count": 49,
   "id": "a20a4b96",
   "metadata": {
    "ExecuteTime": {
     "end_time": "2023-02-20T01:56:39.284296Z",
     "start_time": "2023-02-20T01:56:27.952286Z"
    }
   },
   "outputs": [
    {
     "name": "stdout",
     "output_type": "stream",
     "text": [
      "ETL - copleted\n"
     ]
    }
   ],
   "source": [
    "# 1. The name of table\n",
    "name_table = 'order_product'\n",
    "\n",
    "# 2. Get the cursor, which is used to traverse the database, line by line\n",
    "cursor = database.cursor()\n",
    "# 3. query\n",
    "query = f\"\"\"INSERT INTO dm_course_v25.{name_table} (Order_ID, Product_ID, Sales, Quantity, Profit, Discount) VALUES (%s, %s, %s, %s, %s, %s)\"\"\"\n",
    "\n",
    "for i in range(len(data)):\n",
    "    values =  (data.iloc[i,0], data.iloc[i,1], data.iloc[i,2], data.iloc[i,3], data.iloc[i,4], data.iloc[i,5])\n",
    "#     print(values)\n",
    "    cursor.execute(query, values)\n",
    "    \n",
    "# Close the cursor\n",
    "cursor.close()\n",
    "# Commit the transaction\n",
    "database.commit()\n",
    "# Close the database connection\n",
    "# database.close()\n",
    "\n",
    "# 5. Status\n",
    "print('ETL - copleted')    "
   ]
  },
  {
   "cell_type": "code",
   "execution_count": null,
   "id": "a8ae1750",
   "metadata": {},
   "outputs": [],
   "source": []
  }
 ],
 "metadata": {
  "kernelspec": {
   "display_name": "Python 3 (ipykernel)",
   "language": "python",
   "name": "python3"
  },
  "language_info": {
   "codemirror_mode": {
    "name": "ipython",
    "version": 3
   },
   "file_extension": ".py",
   "mimetype": "text/x-python",
   "name": "python",
   "nbconvert_exporter": "python",
   "pygments_lexer": "ipython3",
   "version": "3.9.15"
  },
  "toc": {
   "base_numbering": 1,
   "nav_menu": {
    "height": "226px",
    "width": "307px"
   },
   "number_sections": true,
   "sideBar": true,
   "skip_h1_title": false,
   "title_cell": "Table of Contents",
   "title_sidebar": "Contents",
   "toc_cell": false,
   "toc_position": {},
   "toc_section_display": true,
   "toc_window_display": false
  }
 },
 "nbformat": 4,
 "nbformat_minor": 5
}
